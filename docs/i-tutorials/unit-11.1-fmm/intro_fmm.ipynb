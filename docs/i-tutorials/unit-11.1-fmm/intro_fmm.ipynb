{
 "cells": [
  {
   "cell_type": "markdown",
   "id": "24aada8c-203f-48f6-b776-07dd0e232bdd",
   "metadata": {},
   "source": [
    "# 11.1.1 Fast Multipole Methods\n",
    "\n",
    "Many simulations in physics require to compute global particle-particle interactions, for example gravity potentials\n",
    "\n",
    "$$\n",
    "V(x_j) = - \\sum_{i=1}^N \\frac{G m_i}{\\| x_j - y_i \\| } \\qquad \\forall j, 1 \\leq j \\leq M,\n",
    "$$\n",
    "\n",
    "where for $1 \\leq i \\leq N$, $m_i$ are point-masses in $y_i$. This potential as well it's gradients must be evaluated in target points $x_j$. A direct evaluation requires $O(N M)$ operations. With fast multipole methods one can reduce that to $O((N+M) \\log \\varepsilon^{-1})$ operations, where $\\varepsilon$ is the required accuracy.\n",
    "\n",
    "The FMM - algorithm is considered to be one of the top-10 algorithms of the 20th century:\n",
    "[top 10 algorithms](https://www.computer.org/csdl/magazine/cs/2000/01/c1022/13rRUxBJhBm)\n",
    "\n",
    "* Leslie Greengard, Vladimir Rokhlin: A fast algorithm for particle simulations, Journal of computational physics 73 (1987)\n",
    "* Nail A. Gumerov, Ramani Duraiswami: Fast multipole methods for the Helmholtz equation in three dimensions, Elsevier (2004)\n",
    "\n",
    "We are going to introduce the FMM for the Helmholtz equation, where the summation kernel is Green's function for the the 3D Helmholtz operator $\\Delta + \\kappa^2 I$, with wave number $\\kappa$\n",
    "$$\n",
    "k(x,y) = \\frac{e^{i \\kappa |x-y|} }{4 \\pi |x-y|}.\n",
    "$$"
   ]
  },
  {
   "cell_type": "markdown",
   "id": "ac1e7e99-aeb4-4543-87a1-547899c32e9d",
   "metadata": {},
   "source": [
    "## A quick idea:"
   ]
  },
  {
   "cell_type": "code",
   "execution_count": null,
   "id": "4083d0f4-0627-4828-999c-62e7767013bc",
   "metadata": {},
   "outputs": [],
   "source": [
    "from ngsolve import *\n",
    "from netgen.occ import *\n",
    "from ngsolve.webgui import Draw\n",
    "r = WorkPlane().RectangleC(20,20).Face()\n",
    "mesh = r.GenerateMesh(maxh=1)"
   ]
  },
  {
   "cell_type": "code",
   "execution_count": null,
   "id": "85b0dfe5-65e4-49d4-b057-8be3574869fc",
   "metadata": {},
   "outputs": [],
   "source": [
    "kappa = 2*pi\n",
    "def kernel(x,y): \n",
    "    dist = Norm(x-y)\n",
    "    return exp(1j*kappa*dist) / (4*pi*dist)"
   ]
  },
  {
   "cell_type": "markdown",
   "id": "a633c8a7-fec7-41d3-bf28-7fdf3e898ac8",
   "metadata": {},
   "source": [
    "We start with one charge in the origin, and visualize the radiating field:"
   ]
  },
  {
   "cell_type": "code",
   "execution_count": null,
   "id": "c8599d56-9610-471d-96dd-4af333134b5a",
   "metadata": {},
   "outputs": [],
   "source": [
    "pnt1 = CF( (0,0,0) )\n",
    "pos = CF( (x,y,z) )\n",
    "\n",
    "Draw (kernel(pnt1, pos), mesh, min=-0.01,max=0.01, animate_complex=True, order=6);\n",
    "# Draw (kernel(pnt1, pos).real, mesh, min=-0.01,max=0.01, order=6);\n",
    "# Draw (kernel(pnt1, pos).imag, mesh, min=-0.01,max=0.01, order=6);"
   ]
  },
  {
   "cell_type": "markdown",
   "id": "791643f3-a401-45b9-b53c-ea8dccd24174",
   "metadata": {},
   "source": [
    "Next we put 3 charges close to the origin, and look at the total potential. The observation suggests to combine the 3 charges to one in the origin:"
   ]
  },
  {
   "cell_type": "code",
   "execution_count": null,
   "id": "599fe65d-3a86-4b66-b21f-2030cba7ff47",
   "metadata": {},
   "outputs": [],
   "source": [
    "pnt1 = CF( (0,0,0) )\n",
    "pnt2 = CF( (0,0.25,0) )\n",
    "pnt3 = CF( (0,-0.25,0) )\n",
    "pos = CF( (x,y,z) )\n",
    "pot = kernel(pnt1,pos) + kernel(pnt2,pos) + kernel(pnt3,pos)\n",
    "Draw (pot, mesh, min=-0.01,max=0.01, animate_complex=True, order=6);"
   ]
  },
  {
   "cell_type": "markdown",
   "id": "005ded1b-a1fc-4381-a7cc-271965b99800",
   "metadata": {},
   "source": [
    "Two charges of opposite signs form a dipole:"
   ]
  },
  {
   "cell_type": "code",
   "execution_count": null,
   "id": "67c5ae9e-c524-483f-948b-b81904e9c8d1",
   "metadata": {},
   "outputs": [],
   "source": [
    "pnt1 = CF( (0,0.25,0) )\n",
    "pnt2 = CF( (0,-0.25,0) )\n",
    "pos = CF( (x,y,z) )\n",
    "pot = kernel(pnt1,pos) - kernel(pnt2,pos) \n",
    "Draw (pot, mesh, min=-0.1,max=0.1, animate_complex=True, order=6);"
   ]
  },
  {
   "cell_type": "markdown",
   "id": "cdf82518-fbd8-4109-b7dc-7cd4f5a07d06",
   "metadata": {},
   "source": [
    "and 4 charges form a quadrupole:"
   ]
  },
  {
   "cell_type": "code",
   "execution_count": null,
   "id": "f31d320d-c06b-47b5-8676-ef0ec5861d1a",
   "metadata": {
    "scrolled": true
   },
   "outputs": [],
   "source": [
    "pnt1 = CF( (0.25,0.25,0) )\n",
    "pnt2 = CF( (0.25,-0.25,0) )\n",
    "pnt3 = CF( (-0.25,0.25,0) )\n",
    "pnt4 = CF( (-0.25,-0.25,0) )\n",
    "pos = CF( (x,y,z) )\n",
    "pot = kernel(pnt1,pos) - kernel(pnt2,pos) - kernel(pnt3,pos) + kernel(pnt4,pos)\n",
    "Draw (pot, mesh, min=-0.1,max=0.1, animate_complex=True, order=6);"
   ]
  },
  {
   "cell_type": "markdown",
   "id": "c61a3016-21c4-42fb-86e1-1b5c80c7a695",
   "metadata": {},
   "source": [
    "## A multipole function"
   ]
  },
  {
   "cell_type": "markdown",
   "id": "e7bb0086-0061-4e86-a65a-ebc262cba001",
   "metadata": {},
   "source": [
    "NGSolve provides a multipole coefficient-function. This is a sum of point potential, dipole, triplepole, quadrupole etc. up to a specified order. One can add point charges, and it computes the approximation of the potential by a multipole:"
   ]
  },
  {
   "cell_type": "code",
   "execution_count": null,
   "id": "bda5e63d-23cf-471a-826d-d1b043906573",
   "metadata": {},
   "outputs": [],
   "source": [
    "from ngsolve.bem import SingularMultiPoleCF\n",
    "from ngsolve.bla import Vec3D"
   ]
  },
  {
   "cell_type": "code",
   "execution_count": null,
   "id": "fa6bfc45-6191-4fd6-b883-874cef82b21a",
   "metadata": {},
   "outputs": [],
   "source": [
    "mp = SingularMultiPoleCF(10, kappa, Vec3D(0,0,0))\n",
    "mp.AddCharge (Vec3D(0,0.25,0), 1)\n",
    "mp.AddCharge (Vec3D(0,-0.25,0), -1)\n",
    "\n",
    "Draw (mp, mesh, min=-0.1,max=0.1, animate_complex=True, order=6);"
   ]
  },
  {
   "cell_type": "markdown",
   "id": "c410c687-2179-4fd8-aa6d-eee8b6f2a699",
   "metadata": {},
   "source": [
    "This approximation cannot work everywhere: The original potential is singular at the given charge, but the multipole approximation is a smooth function. Now let's look closer to the sources. We observer a divergent multipole sum inside a ball, which radius is given by the maximal distance of the charge to the origin of the multipole. Outside the radius we observe a convergent series, where the convergence is faster if we are further from the origin."
   ]
  },
  {
   "cell_type": "code",
   "execution_count": null,
   "id": "35e43cdb-1ed4-4f72-99c2-44efc243f186",
   "metadata": {},
   "outputs": [],
   "source": [
    "mp = SingularMultiPoleCF(20, kappa/5, Vec3D(0,0,0))\n",
    "mp.AddCharge (Vec3D(0,1,0), 1)\n",
    "mp.AddCharge (Vec3D(0,-1,0), -1)\n",
    "\n",
    "Draw (mp, mesh, min=-0.1,max=0.1, animate_complex=True, order=3);"
   ]
  },
  {
   "cell_type": "markdown",
   "id": "098f437a-f428-487b-b984-ca8956b6e021",
   "metadata": {},
   "source": [
    "## Regular expansion\n",
    "\n",
    "Away from the origin of the multipole, the function is smooth. We introduce regular approximations on balls contained in the domain of convergence of the singular multipole. We call them regular multipoles. The `Transform` method of a multipole object computes the expansion coefficients of the target multipole.\n",
    "\n",
    "* We have a charge at (2,0,0)\n",
    "* We approximate its potential by a singular multipole centered at (0,0,0). Domain of convergence is outside a ball of radius 2\n",
    "* The we approximate that singular multipole by a regular multipole centered at (5,0,0). It converges inside a ball of radius 3 (centered at (5,0,0,)) to the potential of the given charge. Outside that ball we observe divergence of the regular multipole."
   ]
  },
  {
   "cell_type": "code",
   "execution_count": null,
   "id": "f2245080-84a3-480b-b32a-a852caf85790",
   "metadata": {},
   "outputs": [],
   "source": [
    "from ngsolve.bem import RegularMultiPoleCF\n",
    "\n",
    "mp = SingularMultiPoleCF(20, kappa, Vec3D(0,0,0))\n",
    "mp.AddCharge (Vec3D(2,0,0), 3)\n",
    "\n",
    "regmp = RegularMultiPoleCF(40, kappa, Vec3D(5,0,0) )\n",
    "mp.Transform(regmp)\n",
    "\n",
    "Draw (mp, mesh, min=-0.1,max=0.1, animate_complex=True, order=5);\n",
    "Draw (regmp, mesh, min=-0.1,max=0.1, animate_complex=True, order=5);"
   ]
  },
  {
   "cell_type": "markdown",
   "id": "d8eb86bd-fe4a-4edf-879a-ce6dd33b1ba3",
   "metadata": {},
   "source": [
    "We see that we cannot approximate the potentials everywhere by sindular or regular multipoles. But, we can fill the space by balls (or complements of balls), and compute multipole coefficients for each ball, and use that multipole to represent the function."
   ]
  }
 ],
 "metadata": {
  "kernelspec": {
   "display_name": "Python 3 (ipykernel)",
   "language": "python",
   "name": "python3"
  },
  "language_info": {
   "codemirror_mode": {
    "name": "ipython",
    "version": 3
   },
   "file_extension": ".py",
   "mimetype": "text/x-python",
   "name": "python",
   "nbconvert_exporter": "python",
   "pygments_lexer": "ipython3",
   "version": "3.13.4"
  },
  "widgets": {
   "application/vnd.jupyter.widget-state+json": {
    "state": {},
    "version_major": 2,
    "version_minor": 0
   }
  }
 },
 "nbformat": 4,
 "nbformat_minor": 5
}
