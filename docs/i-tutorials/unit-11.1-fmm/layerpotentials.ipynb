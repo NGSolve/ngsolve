{
 "cells": [
  {
   "cell_type": "markdown",
   "id": "7a469bfe-76a8-4578-ab2e-7152ade64ce4",
   "metadata": {},
   "source": [
    "# 11.1.3 Layer potentials\n",
    "\n",
    "Let $G(x,y) = \\frac{1}{4 \\pi} \\frac{\\exp (i k |x-y|)}{|x-y|}$ be Green's function for the Helmholtz equation. For a surface $\\Gamma$, and a scalar function $\\rho$ defined on $\\Gamma$, we define the single layer potential as\n",
    "\n",
    "$$\n",
    "(V \\rho) (x) = \\int_{\\Gamma} G(x,y) \\rho(y) dy\n",
    "$$"
   ]
  },
  {
   "cell_type": "code",
   "execution_count": null,
   "id": "b67b6247-a289-49d9-9351-38b83cfcc277",
   "metadata": {},
   "outputs": [],
   "source": [
    "from ngsolve import *\n",
    "from netgen.occ import *\n",
    "from ngsolve.webgui import Draw\n",
    "\n",
    "# the boundary Gamma\n",
    "face = WorkPlane(Axes((0,0,0), -Y, Z)).RectangleC(1,1).Face()\n",
    "mesh = Mesh(OCCGeometry(face).GenerateMesh(maxh=0.1))\n",
    "Draw (mesh);\n",
    "\n",
    "# the visualization mesh\n",
    "visplane = WorkPlane(Axes((0,0,0), Z, X)).RectangleC(5,5).Face()\n",
    "vismesh = Mesh(OCCGeometry(visplane).GenerateMesh(maxh=0.1))\n",
    "Draw (vismesh);"
   ]
  },
  {
   "cell_type": "code",
   "execution_count": null,
   "id": "e53bd006-b55c-46ce-9551-8540e099bb67",
   "metadata": {},
   "outputs": [],
   "source": [
    "from ngsolve.bem import SingularMLMultiPoleCF, RegularMLMultiPoleCF"
   ]
  },
  {
   "cell_type": "markdown",
   "id": "40f189ae-bd4d-41a6-95af-192dad6bf3c0",
   "metadata": {},
   "source": [
    "We evaluate the single layer integral using numerical integration on the surface mesh. Thus, we get a sum of many Green's functions, which is compressed using a multilevel-multipole. "
   ]
  },
  {
   "cell_type": "code",
   "execution_count": null,
   "id": "18649d46-7cf6-4b5b-a246-c6242b1d4cb5",
   "metadata": {},
   "outputs": [],
   "source": [
    "kappa = 3*pi\n",
    "mp = SingularMLMultiPoleCF((0,0,0), r=3, kappa=kappa)\n",
    "\n",
    "ir = IntegrationRule(TRIG,20)\n",
    "pnts = mesh.MapToAllElements(ir, BND)\n",
    "# vals = (20*x)(pnts).flatten()\n",
    "vals = CF(1)(pnts).flatten()\n",
    "\n",
    "# find the integration weights:  sqrt(F^T F)*weight_ref\n",
    "F = specialcf.JacobianMatrix(3,2)\n",
    "weightCF = sqrt(Det (F.trans*F))\n",
    "weights = weightCF(pnts).flatten()\n",
    "for j in range(len(ir)):\n",
    "    weights[j::len(ir)] *= ir[j].weight\n",
    "print (\"number of source points: \", len(pnts))\n",
    "for p,vi,wi in zip(pnts, vals, weights):\n",
    "    mp.mlmp.AddCharge ((x(p), y(p), z(p)), vi*wi)\n",
    "\n",
    "mp.mlmp.Calc()"
   ]
  },
  {
   "cell_type": "code",
   "execution_count": null,
   "id": "ac002d3d-cde3-4059-95df-d3e162c85c2e",
   "metadata": {},
   "outputs": [],
   "source": [
    "Draw (mp, vismesh, min=-0.02,max=0.02, animate_complex=True, order=2);"
   ]
  },
  {
   "cell_type": "markdown",
   "id": "55e66f18-791f-45e9-b3b3-82356627ec62",
   "metadata": {},
   "source": [
    "We see that the single layer potential is continuous across the surface $\\Gamma$, but has a kink at $\\Gamma$. This shows that the normal derivative is jumping (exactly by $\\rho$)."
   ]
  },
  {
   "cell_type": "code",
   "execution_count": null,
   "id": "2e662b1d-d4bb-4f89-a717-181911bc645a",
   "metadata": {},
   "outputs": [],
   "source": [
    "regmp = RegularMLMultiPoleCF(mp, (0,0,0.00),r=5)"
   ]
  },
  {
   "cell_type": "code",
   "execution_count": null,
   "id": "f3d82935-a245-458f-9959-dcca0d67d995",
   "metadata": {},
   "outputs": [],
   "source": [
    "Draw (regmp, vismesh, min=-0.02,max=0.02, animate_complex=True, order=2);"
   ]
  },
  {
   "cell_type": "code",
   "execution_count": null,
   "id": "a31c1c3c-0f42-4dfe-a508-26160640de02",
   "metadata": {},
   "outputs": [],
   "source": [
    "Draw (mp.real-regmp.real, vismesh, min=-1e-5,max=1e-5, animate_complex=False, order=2);"
   ]
  },
  {
   "cell_type": "markdown",
   "id": "81449c9d-5c5c-4a11-b6cc-b9dfacd4c5a3",
   "metadata": {},
   "source": [
    "## Double layer potential\n",
    "\n",
    "the double layer potential is\n",
    " \n",
    "$$\n",
    "(K \\rho) (x) = \\int_{\\Gamma} n_y \\cdot \\frac{\\partial G}{\\partial y}(x,y) \\rho(y) dy\n",
    "$$ \n",
    "\n",
    "the name comes from adding a charge density $\\tfrac{1}{2 \\varepsilon} \\rho$ at the offset surface $\\Gamma + \\varepsilon n$, and a second charge density $\\tfrac{-1}{2 \\varepsilon} \\rho$ at $\\Gamma - \\varepsilon n$, \n",
    "and passing to the limit, i.e.\n",
    "\n",
    "$$\n",
    "(K \\rho) (x) = \\lim_{\\varepsilon \\rightarrow 0} \\int_{\\Gamma} \\frac{1}{2 \\varepsilon } (G(x,y+\\varepsilon n) - G(x,y-\\varepsilon n) \\big) \\rho(y) dy,\n",
    "$$ \n",
    "This pair of charges defines a charge dipole in normal direction."
   ]
  },
  {
   "cell_type": "code",
   "execution_count": null,
   "id": "30ce5066-d325-4efe-a09c-6a27791ae214",
   "metadata": {},
   "outputs": [],
   "source": [
    "kappa = pi\n",
    "mp = SingularMLMultiPoleCF((0,0,0), 2, kappa)\n",
    "\n",
    "ir = IntegrationRule(TRIG,5)\n",
    "pnts = mesh.MapToAllElements(ir, BND)\n",
    "vals = (20*x)(pnts).flatten()\n",
    "\n",
    "F = specialcf.JacobianMatrix(3,2)\n",
    "weightCF = sqrt(Det (F.trans*F))\n",
    "weights = weightCF(pnts).flatten()\n",
    "for j in range(len(ir)):\n",
    "    weights[j::len(ir)] *= ir[j].weight\n",
    "\n",
    "for p,vi,wi in zip(pnts, vals, weights):\n",
    "    mp.mlmp.AddDipole ((x(p), y(p), z(p)), (0,1,0), vi*wi)\n",
    "mp.mlmp.Calc()\n",
    "\n",
    "Draw (mp.real, vismesh, min=-1,max=1, animate_complex=True, order=2)\n",
    "Draw (mp, vismesh, min=-1,max=1, animate_complex=True, order=2);"
   ]
  },
  {
   "cell_type": "markdown",
   "id": "f45da7e6-8eae-440b-b6a1-1b404768b4c2",
   "metadata": {},
   "source": [
    "Now we see that the double layer potential is discontinuous (with jump exactly equal to $\\rho$), and the normal derivative is continuous."
   ]
  },
  {
   "cell_type": "markdown",
   "id": "b9a51944-f74f-4a75-badf-98bd35d782ad",
   "metadata": {},
   "source": [
    "These layer potentials are the foundation for the boundary element method, see \n",
    "[ngbem](https://weggler.github.io/ngbem/intro.html)"
   ]
  },
  {
   "cell_type": "markdown",
   "id": "ec395972-cd4a-422c-9bbf-567bc5691f02",
   "metadata": {},
   "source": [
    "## Charge Density\n",
    "\n",
    "Instead of adding all charges by hand, we can directly add a charge density to the multipole. This performs "
   ]
  },
  {
   "cell_type": "code",
   "execution_count": null,
   "id": "6a84c337-85bc-450c-8a7a-bd5c65d367c1",
   "metadata": {},
   "outputs": [],
   "source": [
    "kappa = 3*pi\n",
    "mp = SingularMLMultiPoleCF((0,0,0), 2, kappa)\n",
    "\n",
    "mp.mlmp.AddChargeDensity(50, mesh.Boundaries(\".*\"))\n",
    "mp.mlmp.Calc()\n",
    "regmp = RegularMLMultiPoleCF(mp, (0,0,0.00),r=5)\n",
    "\n",
    "# Draw (mp.real, vismesh, min=-1,max=1, animate_complex=True, order=2);\n",
    "Draw (regmp, vismesh, min=-1,max=1, animate_complex=True, order=2);"
   ]
  },
  {
   "cell_type": "markdown",
   "id": "35715ec1-f687-420a-870e-a83018b38dfc",
   "metadata": {},
   "source": [
    "## Solving for the charge density\n",
    "\n",
    "Next, we want to find a charge density, such that a certain potential $u_0$ is reached at the shield:\n",
    "\n",
    "$$\n",
    "\\int_{\\Gamma} (V \\rho) v \\, ds = \\int u_0 v \\, ds \\qquad \\forall \\, v \\in L_2(\\Gamma)\n",
    "$$\n",
    "\n",
    "Since the single layer potential is already defined by an integral, the left hand side is now a double integral. \n",
    "\n",
    "The left hand side is actually a bilineaer form, and plugging in all basis functions (for $\\rho$ and for $v$) leads to a discretization matrix.\n",
    "\n",
    "In contrast to fem, there a couple of difficulties:\n",
    "* the matrix is dense\n",
    "* the integrals are singular\n",
    "\n",
    "The ngsolve.bem class `SingleLayerPotentialOperator` provides this discretization matrix as linear operator. It uses Sauter-Schwab numerical integration for the singular integrals, and the fast multipole method for the far field interaction."
   ]
  },
  {
   "cell_type": "code",
   "execution_count": null,
   "id": "c400238a-ce0a-462b-9c1c-5a9439f5bf39",
   "metadata": {},
   "outputs": [],
   "source": [
    "from ngsolve.bem import SingleLayerPotentialOperator"
   ]
  },
  {
   "cell_type": "code",
   "execution_count": null,
   "id": "b1efee89-e748-4b8b-a305-0eac77556df2",
   "metadata": {},
   "outputs": [],
   "source": [
    "fesL2 = SurfaceL2(mesh, order=4, dual_mapping=True)\n",
    "u,v = fesL2.TnT()\n",
    "\n",
    "with TaskManager():\n",
    "    V = SingleLayerPotentialOperator(fesL2, intorder=10)\n",
    "    lf = LinearForm(1*v*ds).Assemble()\n",
    "\n",
    "    pre = BilinearForm(u*v*ds).Assemble().mat.Inverse(inverse=\"sparsecholesky\")\n",
    "\n",
    "    inv = solvers.CGSolver(V.mat, pre, tol=1e-6, printrates=False, plotrates=True)\n",
    "\n",
    "    gfurho = GridFunction(fesL2)\n",
    "    gfurho.vec.data = inv * lf.vec"
   ]
  },
  {
   "cell_type": "markdown",
   "id": "f99c4484-6c55-43c3-a2dc-b985620125d4",
   "metadata": {},
   "source": [
    "The solution shows strong singularities at the boundary of the shield:"
   ]
  },
  {
   "cell_type": "code",
   "execution_count": null,
   "id": "10ef09f6-f45c-428d-9ab5-6ab338a141cb",
   "metadata": {},
   "outputs": [],
   "source": [
    "Draw (gfurho, min=-10, max=10);"
   ]
  },
  {
   "cell_type": "code",
   "execution_count": null,
   "id": "8ab13d70-58bc-4c05-9b5e-47aece35625b",
   "metadata": {},
   "outputs": [],
   "source": [
    "mp = SingularMLMultiPoleCF((0,0,0), 2, 1e-10)\n",
    "\n",
    "mp.mlmp.AddChargeDensity(gfurho, mesh.Boundaries(\".*\"))\n",
    "mp.mlmp.Calc()\n",
    "regmp = RegularMLMultiPoleCF(mp, (0,0,0.00),r=5)\n",
    "\n",
    "Draw (mp.real*CF((0,0,1)), vismesh, min=-1,max=1, order=2);"
   ]
  },
  {
   "cell_type": "code",
   "execution_count": null,
   "id": "fe760cc9-faf4-45f6-961b-42745d7d5ad2",
   "metadata": {},
   "outputs": [],
   "source": []
  },
  {
   "cell_type": "code",
   "execution_count": null,
   "id": "ebe1dfcc-a858-4385-b63c-498072bb3a8a",
   "metadata": {},
   "outputs": [],
   "source": []
  }
 ],
 "metadata": {
  "kernelspec": {
   "display_name": "Python 3 (ipykernel)",
   "language": "python",
   "name": "python3"
  },
  "language_info": {
   "codemirror_mode": {
    "name": "ipython",
    "version": 3
   },
   "file_extension": ".py",
   "mimetype": "text/x-python",
   "name": "python",
   "nbconvert_exporter": "python",
   "pygments_lexer": "ipython3",
   "version": "3.13.4"
  },
  "widgets": {
   "application/vnd.jupyter.widget-state+json": {
    "state": {},
    "version_major": 2,
    "version_minor": 0
   }
  }
 },
 "nbformat": 4,
 "nbformat_minor": 5
}
