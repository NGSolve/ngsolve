{
 "cells": [
  {
   "cell_type": "markdown",
   "metadata": {},
   "source": [
    "Interactive NGSolve Tutorial\n",
    "====\n",
    "<!-- [Before we start](before_we_start.ipynb) -->"
   ]
  },
  {
   "cell_type": "markdown",
   "metadata": {},
   "source": [
    "Getting started\n",
    "----\n",
    "* [1.1](unit-1.1-poisson/poisson.ipynb) Poisson equation\n",
    "* [1.2](unit-1.2-coefficient/coefficientfunction.ipynb) CoefficientFunctions\n",
    "* [1.3](unit-1.3-dirichlet/dirichlet.ipynb) Dirichlet boundary conditions\n",
    "* [1.4](unit-1.4-staticcond/staticcond.ipynb) Static condensation\n",
    "* [1.5](unit-1.5-subdomains/subdomains.ipynb) Spaces and forms on sub-domains\n",
    "* [1.6](unit-1.6-adaptivity/adaptivity.ipynb) Error estimation and refinement\n",
    "* [1.7](unit-1.7-helmholtz/helmholtz.ipynb)  Helmholtz equation\n",
    "  * [1.7.1](unit-1.7-helmholtz/pml.ipynb) Perfectly matched layers (PML)\n",
    "* [1.8](unit-1.8-meshtopology/meshtopology.ipynb) Exploring the mesh topology\n",
    "* [1.9](unit-1.9-taskmanager/taskmanager.ipynb) Parallel computing using TaskManager"
   ]
  },
  {
   "cell_type": "markdown",
   "metadata": {},
   "source": [
    "Advanced topics\n",
    "----\n",
    "\n",
    "* 2.1 Preconditioning\n",
    "    \n",
    "    * [2.1.1](unit-2.1.1-preconditioners/preconditioner.ipynb) Available preconditioners and solvers\n",
    "    * [2.1.2](unit-2.1.2-blockjacobi/blockjacobi.ipynb) Programming preconditioners\n",
    "\n",
    "    * [2.1.3](unit-2.1.3-bddc/bddc.ipynb) p-version BDDC preconditioner\n",
    "\n",
    "* [2.2](unit-2.2-eigenvalues/pinvit.ipynb) Eigenvalue solver\n",
    "     \n",
    "* [2.3](unit-2.3-hcurlhdiv/hcurlhdiv.ipynb) $H(curl)$ and $H(div)$ finite element spaces\n",
    "* [2.4](unit-2.4-Maxwell/Maxwell.ipynb) Solving Maxwell equations\n",
    "   * [2.4.1](unit-2.4-Maxwell/Maxwellevp.ipynb) Maxwell eigenvalue problem \n",
    "* [2.5](unit-2.5-mixed/mixed.ipynb) Mixed formulations for second order equations\n",
    "* [2.6](unit-2.6-stokes/stokes.ipynb) Stokes equation\n",
    "* [2.7](unit-2.7-hybrid/hybrid.ipynb) Facet-spaces and hybrid methods\n",
    "* [2.8](unit-2.8-DG/DG.ipynb) (Hybrid) Discontinuous Galerkin methods \n",
    "* [2.9](unit-2.9-fourthorder/fourthorder.ipynb) Fourth order equations - Kirchhoff plates\n",
    "* [2.10](unit-2.10-dualbasis/dualbasis.ipynb) Dual basis functions\n",
    "* [2.11](unit-2.11-matrixfree/matrixfree.ipynb) Matrix-free operator application\n"
   ]
  },
  {
   "cell_type": "markdown",
   "metadata": {},
   "source": [
    "Time-dependent and non-linear problems\n",
    "----\n",
    "* [3.1](unit-3.1-parabolic/parabolic.ipynb) Time-stepping methods for parabolic equations\n",
    "* [3.2](unit-3.2-navierstokes/navierstokes.ipynb) Time-dependent Navier-Stokes equation\n",
    "* [3.3](unit-3.3-scalardg/scalardg.ipynb) DG-method for convection (operator application)\n",
    "    * [3.3.1](unit-3.3.1-wavedg/wavedg.ipynb) DG-method for acoustic wave propagation (tuned operator applications) \n",
    "* [3.4](unit-3.4-simplehyp/shallow2D.ipynb) DG for hyperbolic conservation laws \n",
    "* [3.5](unit-3.5-surfacehdg/surfacehdg.ipynb) Scalar HDG on surface\n",
    "* [3.6](unit-3.6-opsplit/opsplit.ipynb)  DG/HDG operator splitting methods\n",
    "* [3.7](unit-3.7-nonlinear/nonlinear.ipynb) Non-linear equations\n",
    "* [3.8](unit-3.8-nonlmin/nonlmin.ipynb) Non-linear minimization problems\n"
   ]
  },
  {
   "cell_type": "markdown",
   "metadata": {},
   "source": [
    "Geometric modeling and mesh generation\n",
    "----\n",
    "\n",
    "* [4.1.1](unit-4.1.1-geom2d/geom2d.ipynb) Spline geometries in 2D\n",
    "* [4.1.2](unit-4.1.2-csg2d/csg2d.ipynb) CSG geometries in 2D\n",
    "* [4.2](unit-4.2-csg/csg.ipynb) CSG geometries in 3D\n",
    "* [4.3](unit-4.3-manualmesh/manualmeshing.ipynb) Working with meshes\n",
    "* [4.4](unit-4.4-occ/occ.ipynb) OpenCascade geometries (NEW)\n",
    "    * [4.4.1](unit-4.4-occ/bottle.ipynb) OpenCascade bottle tutorial\n",
    "    * [4.4.2](unit-4.4-occ/workplane.ipynb) Workplanes"
   ]
  },
  {
   "cell_type": "markdown",
   "metadata": {},
   "source": [
    "MPI-parallel NGSolve and FETI-DP\n",
    "----\n",
    "\n",
    "* [5.1](unit-5a.1-mpi/poisson_mpi.ipynb) Poisson Equation in Parallel\n",
    "* [5.2](unit-5a.2-pardofs/pardofs.ipynb) Parallel Dofs and Vector-types\n",
    "* [5.3.1](unit-5a.3-petsc/petsc.ipynb) Using PETSc\n",
    "* [5.3.2](unit-5a.3-petsc/petsc_interface.ipynb) NGSolve-PETSc interface\n",
    "\n",
    "some more MPI tutorials:\n",
    "\n",
    "* [5.5.1](unit-5.0-mpi_basics/MPI-Parallelization_in_NGSolve.ipynb) Starting MPI jobs\n",
    "* [5.5.2](unit-5.1-mpi_ngsolve/mpi_basics.ipynb) Basics of MPI-parallel NGSolve\n",
    "* [5.6.1](unit-5.2-fetidp_point2d/feti-dp-i.ipynb) FETI-DP with point-constraints in 2D\n",
    "* [5.6.2](unit-5.3-fetidp_point3d/feti-dp-ii.ipynb) FETI-DP with point-constraints in 3D\n",
    "* [5.6.3](unit-5.4-fetidp_edge/feti-dp-iii.ipynb) FETI-DP with point- and edge-constraints\n",
    "* [5.6.4](unit-5.5-fetidp_inexact/feti-dp-iv.ipynb) inexact FETI-DP\n",
    "\n"
   ]
  },
  {
   "cell_type": "markdown",
   "metadata": {},
   "source": [
    "Various Topics\n",
    "---\n",
    "\n",
    "* 6.1 Plates and Shells\n",
    "    * [6.1.1](unit-6.1.1-surfacemeshes/surface_meshes.ipynb) Surface meshes\n",
    "    * [6.1.2](unit-6.1.2-surfacepde/surface_pdes.ipynb) Surface PDE examples\n",
    "    * [6.1.3](unit-6.1.3-rmplate/Reissner_Mindlin_plate.ipynb) Reissner--Mindlin plate elements\n",
    "    * [6.1.4](unit-6.1.4-shells/shell.ipynb) Naghdi/Koiter shells\n",
    "    \n",
    "* [6.2](unit-6.2-contact/contact.ipynb) Contact Problems\n",
    "* [6.3](unit-6.3-plasticity/plasticity.ipynb) Elasto-plasticity"
   ]
  },
  {
   "cell_type": "markdown",
   "metadata": {},
   "source": [
    "## Shape- and Topology Optimization\n",
    "Peter Gangl and Kevin Sturm\n",
    "\n",
    "  - [7.1](unit-7-optimization/01_Shape_Derivative_Levelset.ipynb) Shape Derivative Levelset  \n",
    "  - [7.2](unit-7-optimization/02_Shape_Derivative_Laplace.ipynb) Shape Derivative Laplace\n",
    "  - [7.3](unit-7-optimization/03_Shape_Derivative_Laplace_SemiAuto.ipynb) Shape Derivative SemiAuto\n",
    "  - [7.4](unit-7-optimization/03a_Shape_Derivative_Laplace_SemiAuto.ipynb) Shape Derivative Laplace SemiAuto\n",
    "  - [7.5](unit-7-optimization/03b_Shape_Derivative_Laplace_FullyAuto.ipynb) Shape Derivative Laplace FullyAuto\n",
    "\n",
    "\n",
    "  - [7.6](unit-7-optimization/04_Topological_Derivative_Levelset.ipynb) Topological Derivative Levelset\n",
    "  - [7.7](unit-7-optimization/05_Topological_Derivative_Transmission.ipynb) Topological Derivative Transmission\n",
    "\n",
    "\n",
    "    "
   ]
  },
  {
   "cell_type": "markdown",
   "metadata": {},
   "source": [
    "##  Extended Finite Elements\n",
    "C. Lehrenfeld\n",
    "\n",
    "coming soon ...   "
   ]
  },
  {
   "cell_type": "markdown",
   "metadata": {},
   "source": [
    "## Extending by C++ programming\n",
    "\n",
    "\n",
    "* [9.1](unit-9.1-C++FE/CppExtension.ipynb) Implementation of Finite Elements\n",
    "* [9.2](unit-9.2-C++Assemble/cppassembling.ipynb) Implement our own system assembling\n",
    "* [9.3](unit-9.3-highorder/highorder.ipynb) High Order Finite Elements\n",
    "   \n",
    "   "
   ]
  },
  {
   "cell_type": "code",
   "execution_count": null,
   "metadata": {},
   "outputs": [],
   "source": []
  }
 ],
 "metadata": {
  "kernelspec": {
   "display_name": "Python 3 (ipykernel)",
   "language": "python",
   "name": "python3"
  },
  "language_info": {
   "codemirror_mode": {
    "name": "ipython",
    "version": 3
   },
   "file_extension": ".py",
   "mimetype": "text/x-python",
   "name": "python",
   "nbconvert_exporter": "python",
   "pygments_lexer": "ipython3",
   "version": "3.10.4"
  }
 },
 "nbformat": 4,
 "nbformat_minor": 2
}
