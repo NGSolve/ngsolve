{
 "cells": [
  {
   "cell_type": "markdown",
   "id": "d0e41f78-90f5-4e16-9433-6e2bf92dd68f",
   "metadata": {},
   "source": [
    "# 2.1.6. Multigrid for high order finite element spaces\n",
    "\n",
    "Officially released with NGSolve-2504, most high order spaces provide high order polynomial preserving prolongation operators. \n",
    "Current restrictions:\n",
    "* require simplicial meshes\n",
    "* refinement by bisection\n",
    "* require uniform polynomial order\n"
   ]
  },
  {
   "cell_type": "code",
   "execution_count": null,
   "id": "bbf4bed2-d23f-438e-a872-02af00a32446",
   "metadata": {},
   "outputs": [],
   "source": [
    "from ngsolve import *\n",
    "from ngsolve.webgui import Draw\n",
    "from ngsolve.la import EigenValues_Preconditioner"
   ]
  },
  {
   "cell_type": "markdown",
   "id": "9f6ba32e-30f6-4351-b5a0-3fbe9b43775b",
   "metadata": {},
   "source": [
    "Many FESpaces provide now a high-order accurate prolongation operator. It has to be enabled by the flag `hoprolongation=True`, maybe becoming default in future."
   ]
  },
  {
   "cell_type": "code",
   "execution_count": null,
   "id": "d61efdac-c25b-4e31-8b8e-2796e58ba6de",
   "metadata": {},
   "outputs": [],
   "source": [
    "mesh = Mesh(unit_square.GenerateMesh(maxh=0.2))\n",
    "gfu = GridFunction(H1(mesh, order=10, hoprolongation=True))\n",
    "gfu.Set (sin(50*x*y))\n",
    "Draw (gfu, order=10);"
   ]
  },
  {
   "cell_type": "code",
   "execution_count": null,
   "id": "6a11dbc4-2fb4-44be-903d-0a490302704f",
   "metadata": {},
   "outputs": [],
   "source": [
    "for l in range(2):\n",
    "    mesh.Refine()\n",
    "Draw (gfu, order=5);"
   ]
  },
  {
   "cell_type": "markdown",
   "id": "bbc3a9be-54c8-4a40-92ab-d39052f9adb1",
   "metadata": {},
   "source": [
    "## Multigrid preconditioners for high order spaces\n",
    "\n",
    "If the high order prolongation is enabled, the multigrid preconditioner uses the high order discretization on the mesh hierarchy. If not, the coarse grid spaces use the lowest order spaces in the background."
   ]
  },
  {
   "cell_type": "code",
   "execution_count": null,
   "id": "db0d8acd-ba81-4fb4-b242-10c3c1b5ccae",
   "metadata": {},
   "outputs": [],
   "source": [
    "mesh = Mesh(unit_square.GenerateMesh(maxh=0.2))\n",
    "\n",
    "fes = H1(mesh, order=5, hoprolongation=True, dirichlet=\".*\")\n",
    "u,v = fes.TnT()\n",
    "\n",
    "a = BilinearForm(grad(u)*grad(v)*dx).Assemble()\n",
    "pre = preconditioners.MultiGrid(a, blocktype=[\"vertexpatch\"])\n",
    "# pre = preconditioners.MultiGrid(a, smoother=\"block\", blocktype=[\"vertexedge\",\"face\"])\n",
    "# pre = preconditioners.MultiGrid(a, smoother=\"block\", blocktype=[\"vertpatch\"])\n",
    "\n",
    "for l in range(4):\n",
    "    mesh.Refine()\n",
    "    a.Assemble()\n",
    "    lam = EigenValues_Preconditioner(a.mat, pre)\n",
    "    print (mesh.levels, fes.ndof, lam[0], lam[-1])"
   ]
  },
  {
   "cell_type": "code",
   "execution_count": null,
   "id": "dc6e36a6-43a8-4494-af7b-6b6c45766fe7",
   "metadata": {},
   "outputs": [],
   "source": [
    "f = LinearForm(x*v*dx).Assemble()\n",
    "gfu = GridFunction(fes)\n",
    "\n",
    "Solve(a * gfu == f, dirichlet=x*(1-x), lin_solver=solvers.CGSolver, pre=pre, printrates=True)"
   ]
  },
  {
   "cell_type": "code",
   "execution_count": null,
   "id": "bfd1d054-7789-4273-b626-ab2df99b176b",
   "metadata": {},
   "outputs": [],
   "source": [
    "ea = { \"euler_angles\" : (-70, 0,-55) }\n",
    "Draw (gfu, deformation=True, **ea);"
   ]
  },
  {
   "cell_type": "markdown",
   "id": "468362b6-f662-4fef-9a71-6ec1f4d3669c",
   "metadata": {},
   "source": [
    "## High order with static condensation\n",
    "\n",
    "For high order methods, static condensation may save a lot of computation. However, canonical prolongation for the skeleton variables only does not preserve high order polynomials. Here the `HarmonicProlongation` comes into play: It prolongates functions on the boundaries of the coarse grid elements, and then solves local Dirichlet problems for the dofs on the fine-grid skeleton inside the coarse grid elements.\n",
    "\n",
    "The Dirichlet problem is solved for the problem-specific bilinear form, which has to be provided when enabling the `HarmonicProlongation`:"
   ]
  },
  {
   "cell_type": "code",
   "execution_count": null,
   "id": "5c4cf5f5-30bd-444b-ab67-bffaf0fcf742",
   "metadata": {},
   "outputs": [],
   "source": [
    "mesh = Mesh(unit_square.GenerateMesh(maxh=0.2))\n",
    "\n",
    "fes = H1(mesh, order=5, hoprolongation=True, dirichlet=\".*\")\n",
    "u,v = fes.TnT()\n",
    "\n",
    "a = BilinearForm(grad(u)*grad(v)*dx, condense=True).Assemble()\n",
    "fes.SetHarmonicProlongation(a)\n",
    "pre = preconditioners.MultiGrid(a, blocktype=\"vertexpatch\")\n",
    "\n",
    "for l in range(5):\n",
    "    mesh.Refine()\n",
    "    a.Assemble()\n",
    "    lam = EigenValues_Preconditioner(a.mat, pre)\n",
    "    print (mesh.levels, fes.ndof, lam[0], lam[-1])"
   ]
  },
  {
   "cell_type": "code",
   "execution_count": null,
   "id": "1f9f3f67-afe3-45ae-91ea-54e8a1afc819",
   "metadata": {},
   "outputs": [],
   "source": [
    "f = LinearForm(x*v*dx).Assemble()\n",
    "gfu = GridFunction(fes)\n",
    "\n",
    "Solve(a * gfu == f, dirichlet=x*(1-x), lin_solver=solvers.CGSolver, pre=pre, printrates=True)"
   ]
  },
  {
   "cell_type": "code",
   "execution_count": null,
   "id": "31b603cd-7179-45e8-bc1d-02caf1a0ce9c",
   "metadata": {},
   "outputs": [],
   "source": [
    "Draw (gfu, deformation=True, **ea);"
   ]
  },
  {
   "cell_type": "markdown",
   "id": "bf759def-621b-436a-be79-f262eddd0ef0",
   "metadata": {},
   "source": [
    "This example shows the result of a `HarmonicProlongation`:"
   ]
  },
  {
   "cell_type": "code",
   "execution_count": null,
   "id": "a069426f-a4fb-47f9-938a-f90c0f344042",
   "metadata": {},
   "outputs": [],
   "source": [
    "mesh = Mesh(unit_square.GenerateMesh(maxh=2))\n",
    "\n",
    "fes = H1(mesh, order=8, hoprolongation=True)\n",
    "u,v = fes.TnT()\n",
    "\n",
    "a = BilinearForm(grad(u)*grad(v)*dx, condense=True).Assemble()\n",
    "fes.SetHarmonicProlongation(a)\n",
    "pre = preconditioners.MultiGrid(a, smoother=\"block\", blocktype=\"vertexpatch\")"
   ]
  },
  {
   "cell_type": "code",
   "execution_count": null,
   "id": "e36c7e15-9fab-45c7-b48e-937e54dab317",
   "metadata": {},
   "outputs": [],
   "source": [
    "gfu = GridFunction(fes)\n",
    "gfu.Set(sin(10*x))\n",
    "Draw(gfu, order=5)\n",
    "mesh.Refine()\n",
    "Draw(gfu, order=5)\n",
    "gfu.vec.data += a.harmonic_extension * gfu.vec\n",
    "Draw (gfu, order=5);"
   ]
  },
  {
   "cell_type": "markdown",
   "id": "d0c4fe74-5ae3-4cea-8bd1-aaa5350982e7",
   "metadata": {},
   "source": [
    "##  Nearly incompressible elasticity and Stokes\n",
    "\n",
    "The Scott-Vogelius element:"
   ]
  },
  {
   "cell_type": "code",
   "execution_count": null,
   "id": "f368d787-2cd1-45c9-892a-54222b55a8d6",
   "metadata": {},
   "outputs": [],
   "source": [
    "mesh = Mesh(unit_square.GenerateMesh(maxh=0.2))\n",
    "\n",
    "fes = VectorH1(mesh, order=4, hoprolongation=True, dirichlet=\".*\")\n",
    "u,v = fes.TnT()\n",
    "\n",
    "eq = InnerProduct(Grad(u),Grad(v)) * dx + 1e4 * div(u)*div(v)* dx\n",
    "a = BilinearForm(eq).Assemble()\n",
    "\n",
    "# a = BilinearForm( (Grad(u)|Grad(v)) * dx).Assemble()\n",
    "\n",
    "pre = preconditioners.MultiGrid(a, blocktype=[\"vertexpatch\"])\n",
    "\n",
    "with TaskManager():\n",
    "    for l in range(5):\n",
    "        mesh.Refine()\n",
    "        a.Assemble()\n",
    "        lam = EigenValues_Preconditioner(a.mat, pre)\n",
    "        print (mesh.levels, fes.ndof, lam[0], lam[-1])"
   ]
  },
  {
   "cell_type": "markdown",
   "id": "89a23000-0900-47d9-93bc-5a386cb79b47",
   "metadata": {},
   "source": [
    "## A robust method with reduced integration\n",
    "\n",
    "We define the bilinear form as\n",
    "\n",
    "$$\n",
    "A(u,v) = \\int_\\Omega \\nabla u : \\nabla v \\, dx + \\frac{1}{\\varepsilon} \\int_\\Omega P_{L_2}^Q \\operatorname{div} u \\operatorname{div} v \\, dx,\n",
    "$$\n",
    "\n",
    "where $P_{L_2}^Q$ is an element-wise $L_2$-projector into a lower order space."
   ]
  },
  {
   "cell_type": "code",
   "execution_count": null,
   "id": "c8ed5d5c-a6dc-45aa-8909-29dcffc0b19d",
   "metadata": {},
   "outputs": [],
   "source": [
    "mesh = Mesh(unit_square.GenerateMesh(maxh=0.2))\n",
    "\n",
    "fesp = L2(mesh, order=0)\n",
    "fes = VectorH1(mesh, order=2, hoprolongation=True, dirichlet=\".*\")\n",
    "u,v = fes.TnT()\n",
    "\n",
    "eq = InnerProduct(Grad(u),Grad(v)) * dx + 1e4 * Interpolate(div(u),fesp)*div(v)* dx\n",
    "a = BilinearForm(eq).Assemble()\n",
    "\n",
    "# a = BilinearForm( (Grad(u)|Grad(v)) * dx).Assemble()\n",
    "fes.SetHarmonicProlongation(a)\n",
    "pre = preconditioners.MultiGrid(a, blocktype=[\"vertexpatch\"])\n",
    "\n",
    "for l in range(4):\n",
    "    mesh.Refine()\n",
    "    a.Assemble()\n",
    "    lam = EigenValues_Preconditioner(a.mat, pre)\n",
    "    print (mesh.levels, fes.ndof, lam[0], lam[-1])"
   ]
  },
  {
   "cell_type": "code",
   "execution_count": null,
   "id": "e69db208-43df-4128-998a-d7724c19abf0",
   "metadata": {},
   "outputs": [],
   "source": [
    "f = LinearForm((x-0.5)*v[1]*dx).Assemble()\n",
    "gfu = GridFunction(fes)\n",
    "Solve (a*gfu==f, pre, solvers.CGSolver, printrates=True)"
   ]
  },
  {
   "cell_type": "code",
   "execution_count": null,
   "id": "441a9c2b-f06a-49c0-98b6-730a5a648a3a",
   "metadata": {},
   "outputs": [],
   "source": [
    "Draw (gfu);"
   ]
  },
  {
   "cell_type": "code",
   "execution_count": null,
   "id": "edd895eb-6a64-42d9-90b9-4d0f83d3a876",
   "metadata": {},
   "outputs": [],
   "source": [
    "from netgen.occ import *\n",
    "shape = MoveTo(0,0).LineTo(1,0,\"in\").LineTo(1,1).LineTo(2,1).LineTo(3,0).LineTo(4,1).LineTo(5,1) \\\n",
    "    .LineTo(5,2,\"out\").LineTo(4,2).LineTo(3,1).LineTo(2,2).LineTo(1,2).Rotate(180).Arc(1,90).Close().Face()\n",
    "mesh = shape.GenerateMesh(dim=2, maxh=0.25).Curve(3)\n",
    "Draw (mesh)\n",
    "print (mesh.GetBoundaries())\n",
    "\n",
    "fesp = L2(mesh, order=0)\n",
    "fes = VectorH1(mesh, order=2, hoprolongation=True, dirichlet=\"in|default\")\n",
    "u,v = fes.TnT()\n",
    "\n",
    "eq = InnerProduct(Grad(u),Grad(v)) * dx + 1e4 * Interpolate(div(u),fesp)*div(v)* dx\n",
    "a = BilinearForm(eq).Assemble()\n",
    "\n",
    "# a = BilinearForm( (Grad(u)|Grad(v)) * dx).Assemble()\n",
    "fes.SetHarmonicProlongation(a)\n",
    "pre = preconditioners.MultiGrid(a, blocktype=[\"vertexpatch\"])\n",
    "\n",
    "for l in range(4):\n",
    "    mesh.Refine()\n",
    "    a.Assemble()\n",
    "    print (mesh.levels, fes.ndof)"
   ]
  },
  {
   "cell_type": "markdown",
   "id": "28c4803b-3dc3-484c-82d7-09b8a4f8330c",
   "metadata": {},
   "source": [
    "from [Dissertation J. Schöberl](https://www.tuwien.at/index.php?eID=dumpFile&t=f&f=256729&token=a532668f99d52b812999d002e22655734632a80e),   page 116."
   ]
  },
  {
   "cell_type": "code",
   "execution_count": null,
   "id": "019bea9b-a403-4df9-b00f-10b3a1c74c39",
   "metadata": {},
   "outputs": [],
   "source": [
    "f = LinearForm(fes)\n",
    "gfu = GridFunction(fes)\n",
    "Solve (a*gfu==f, pre, solvers.CGSolver, dirichlet=CF((0,x*(1-x))) | mesh.Boundaries(\"in\"), printrates=True)"
   ]
  },
  {
   "cell_type": "code",
   "execution_count": null,
   "id": "1b23a560-fac6-4e67-8556-af53d0f31425",
   "metadata": {},
   "outputs": [],
   "source": [
    "Draw (gfu);"
   ]
  },
  {
   "cell_type": "code",
   "execution_count": null,
   "id": "e7e33851-b903-43ea-86ec-3d13781b4580",
   "metadata": {},
   "outputs": [],
   "source": []
  }
 ],
 "metadata": {
  "kernelspec": {
   "display_name": "Python 3 (ipykernel)",
   "language": "python",
   "name": "python3"
  },
  "language_info": {
   "codemirror_mode": {
    "name": "ipython",
    "version": 3
   },
   "file_extension": ".py",
   "mimetype": "text/x-python",
   "name": "python",
   "nbconvert_exporter": "python",
   "pygments_lexer": "ipython3",
   "version": "3.13.5"
  },
  "widgets": {
   "application/vnd.jupyter.widget-state+json": {
    "state": {},
    "version_major": 2,
    "version_minor": 0
   }
  }
 },
 "nbformat": 4,
 "nbformat_minor": 5
}
