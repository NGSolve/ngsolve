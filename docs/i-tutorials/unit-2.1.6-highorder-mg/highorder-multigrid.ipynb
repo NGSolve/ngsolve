{
 "cells": [
  {
   "cell_type": "markdown",
   "id": "d0e41f78-90f5-4e16-9433-6e2bf92dd68f",
   "metadata": {},
   "source": [
    "# Multigrid for high order finite element spaces\n",
    "\n",
    "Officially released with NGSolve2504, most high order spaces provide high order polynomial preserving prolongation operators. \n",
    "Current restrictions:\n",
    "* require simplicial meshes\n",
    "* require uniform polynomial order\n"
   ]
  },
  {
   "cell_type": "code",
   "execution_count": null,
   "id": "78fab614-859c-40cf-b576-d436dc74a9e1",
   "metadata": {},
   "outputs": [],
   "source": [
    "from ngsolve import *\n",
    "from ngsolve.webgui import Draw\n",
    "from ngsolve.la import EigenValues_Preconditioner\n",
    "\n",
    "mesh = Mesh(unit_square.GenerateMesh(maxh=0.2))\n",
    "\n",
    "fes = H1(mesh, order=5, hoprolongation=True, dirichlet=\".*\")\n",
    "u,v = fes.TnT()\n",
    "\n",
    "a = BilinearForm(grad(u)*grad(v)*dx).Assemble()\n",
    "pre = preconditioners.MultiGrid(a, smoother=\"block\", blocktype=\"vertexpatch\")"
   ]
  },
  {
   "cell_type": "code",
   "execution_count": null,
   "id": "26918c52-e0ca-4af8-8a34-c375725bbf1e",
   "metadata": {},
   "outputs": [],
   "source": [
    "for l in range(4):\n",
    "    mesh.Refine()\n",
    "    a.Assemble()\n",
    "    lam = EigenValues_Preconditioner(a.mat, pre)\n",
    "    print (lam[0], lam[-1])"
   ]
  },
  {
   "cell_type": "code",
   "execution_count": null,
   "id": "dc6e36a6-43a8-4494-af7b-6b6c45766fe7",
   "metadata": {},
   "outputs": [],
   "source": [
    "f = LinearForm(x*v*dx).Assemble()\n",
    "gfu = GridFunction(fes)\n",
    "\n",
    "Solve(a * gfu == f, dirichlet=x*(1-x), lin_solver=solvers.CGSolver, pre=pre, printrates=True)"
   ]
  },
  {
   "cell_type": "code",
   "execution_count": null,
   "id": "bfd1d054-7789-4273-b626-ab2df99b176b",
   "metadata": {},
   "outputs": [],
   "source": [
    "Draw (gfu, deformation=True);"
   ]
  },
  {
   "cell_type": "markdown",
   "id": "468362b6-f662-4fef-9a71-6ec1f4d3669c",
   "metadata": {},
   "source": [
    "# High order with static condensation"
   ]
  },
  {
   "cell_type": "code",
   "execution_count": null,
   "id": "7284ab6b-6d52-4b4d-bf10-d65767cb9530",
   "metadata": {},
   "outputs": [],
   "source": [
    "mesh = Mesh(unit_square.GenerateMesh(maxh=0.2))\n",
    "fes = H1(mesh, order=5, hoprolongation=True, dirichlet=\".*\")"
   ]
  },
  {
   "cell_type": "code",
   "execution_count": null,
   "id": "5c4cf5f5-30bd-444b-ab67-bffaf0fcf742",
   "metadata": {},
   "outputs": [],
   "source": [
    "mesh = Mesh(unit_square.GenerateMesh(maxh=0.2))\n",
    "\n",
    "fes = H1(mesh, order=5, hoprolongation=True, dirichlet=\".*\")\n",
    "u,v = fes.TnT()\n",
    "\n",
    "a = BilinearForm(grad(u)*grad(v)*dx, condense=True).Assemble()\n",
    "fes.SetHarmonicProlongation(a)\n",
    "pre = preconditioners.MultiGrid(a, smoother=\"block\", blocktype=\"vertexpatch\")\n",
    "\n",
    "for l in range(5):\n",
    "    mesh.Refine()\n",
    "    a.Assemble()\n",
    "    lam = EigenValues_Preconditioner(a.mat, pre)\n",
    "    print (l+1, fes.ndof, lam[0], lam[-1])"
   ]
  },
  {
   "cell_type": "code",
   "execution_count": null,
   "id": "1f9f3f67-afe3-45ae-91ea-54e8a1afc819",
   "metadata": {},
   "outputs": [],
   "source": [
    "f = LinearForm(x*v*dx).Assemble()\n",
    "gfu = GridFunction(fes)\n",
    "\n",
    "Solve(a * gfu == f, dirichlet=x*(1-x), lin_solver=solvers.CGSolver, pre=pre, printrates=True)"
   ]
  },
  {
   "cell_type": "code",
   "execution_count": null,
   "id": "31b603cd-7179-45e8-bc1d-02caf1a0ce9c",
   "metadata": {},
   "outputs": [],
   "source": [
    "Draw (gfu, deformation=True);"
   ]
  },
  {
   "cell_type": "code",
   "execution_count": null,
   "id": "a069426f-a4fb-47f9-938a-f90c0f344042",
   "metadata": {},
   "outputs": [],
   "source": [
    "mesh = Mesh(unit_square.GenerateMesh(maxh=2))\n",
    "\n",
    "fes = H1(mesh, order=8, hoprolongation=True)\n",
    "u,v = fes.TnT()\n",
    "\n",
    "a = BilinearForm(grad(u)*grad(v)*dx, condense=True).Assemble()\n",
    "fes.SetHarmonicProlongation(a)\n",
    "pre = preconditioners.MultiGrid(a, smoother=\"block\", blocktype=\"vertexpatch\")\n"
   ]
  },
  {
   "cell_type": "code",
   "execution_count": null,
   "id": "e36c7e15-9fab-45c7-b48e-937e54dab317",
   "metadata": {},
   "outputs": [],
   "source": [
    "gfu = GridFunction(fes)\n",
    "gfu.Set(sin(10*x))\n",
    "Draw(gfu, order=5)\n",
    "mesh.Refine()\n",
    "Draw(gfu, order=5)\n"
   ]
  },
  {
   "cell_type": "code",
   "execution_count": null,
   "id": "2431c770-fed5-4918-aafc-216c4c8ccbf4",
   "metadata": {},
   "outputs": [],
   "source": [
    "gfu.vec.data += a.harmonic_extension * gfu.vec"
   ]
  },
  {
   "cell_type": "code",
   "execution_count": null,
   "id": "600ea396-b543-438d-9bcd-d5f0348e4b1a",
   "metadata": {},
   "outputs": [],
   "source": [
    "Draw (gfu, order=6)"
   ]
  },
  {
   "cell_type": "code",
   "execution_count": null,
   "id": "82e5eaec-8754-4f95-9cff-2b8d9e205af2",
   "metadata": {},
   "outputs": [],
   "source": []
  }
 ],
 "metadata": {
  "kernelspec": {
   "display_name": "Python 3 (ipykernel)",
   "language": "python",
   "name": "python3"
  },
  "language_info": {
   "codemirror_mode": {
    "name": "ipython",
    "version": 3
   },
   "file_extension": ".py",
   "mimetype": "text/x-python",
   "name": "python",
   "nbconvert_exporter": "python",
   "pygments_lexer": "ipython3",
   "version": "3.13.4"
  },
  "widgets": {
   "application/vnd.jupyter.widget-state+json": {
    "state": {},
    "version_major": 2,
    "version_minor": 0
   }
  }
 },
 "nbformat": 4,
 "nbformat_minor": 5
}
