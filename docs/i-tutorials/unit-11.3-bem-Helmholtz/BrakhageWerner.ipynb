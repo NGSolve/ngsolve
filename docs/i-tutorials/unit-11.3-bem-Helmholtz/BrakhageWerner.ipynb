{
 "cells": [
  {
   "cell_type": "markdown",
   "id": "c258b181-d56d-4330-b6c9-2d4447d5e6b0",
   "metadata": {},
   "source": [
    "# 11.3.1 Helmholtz solver using Brakhage-Werner formulation"
   ]
  },
  {
   "cell_type": "markdown",
   "id": "f1d58676-050f-48f3-beff-db8f3a86ce3a",
   "metadata": {},
   "source": [
    "Combined field integral equations combine single and double layer integral operators, one simple option is the Brakhage-Werner formulation.\n",
    "\n",
    "The solution is represented as\n",
    "\n",
    "$$\n",
    "u = (K + i \\kappa V) \\phi,\n",
    "$$\n",
    "\n",
    "where $\\phi$ solve the boundary integral equation\n",
    "$$\n",
    "    \\big( \\tfrac{1}{2} + K + i \\kappa V \\big) \\phi = u_{in} \\qquad \\text{on} \\, \\Gamma\n",
    "$$\n"
   ]
  },
  {
   "cell_type": "code",
   "execution_count": null,
   "id": "04c8c4a0-d3ab-4ca1-8a84-c5e26d27a529",
   "metadata": {},
   "outputs": [],
   "source": [
    "from netgen.occ import *\n",
    "from ngsolve import *\n",
    "from ngsolve.webgui import Draw\n",
    "from ngsolve.bem import *"
   ]
  },
  {
   "cell_type": "code",
   "execution_count": null,
   "id": "c14ee523-32f4-4650-903c-6948b9462faf",
   "metadata": {},
   "outputs": [],
   "source": [
    "order=4"
   ]
  },
  {
   "cell_type": "code",
   "execution_count": null,
   "id": "8fb15e57-0511-4804-86a1-cb7334940730",
   "metadata": {},
   "outputs": [],
   "source": [
    "screen = WorkPlane(Axes( (0,0,0), Z, X)).RectangleC(15,15).Face()\n",
    "\n",
    "sp = Fuse(Sphere( (0,0,0), pi).faces)\n",
    "screen.faces.name=\"screen\"\n",
    "sp.faces.name=\"sphere\"\n",
    "shape = Compound([screen,sp])\n",
    "\n",
    "mesh = shape.GenerateMesh(maxh=1).Curve(order)\n",
    "Draw (mesh);"
   ]
  },
  {
   "cell_type": "code",
   "execution_count": null,
   "id": "f7de0337-2303-423a-9b5c-23c7a29afe78",
   "metadata": {},
   "outputs": [],
   "source": [
    "fes_sphere = Compress(SurfaceL2(mesh, order=order, complex=True, definedon=mesh.Boundaries(\"sphere\")))\n",
    "fes_screen = Compress(SurfaceL2(mesh, order=order, dual_mapping=True, complex=True, definedon=mesh.Boundaries(\"screen\")))\n",
    "print (\"ndof_sphere = \", fes_sphere.ndof, \"ndof_screen =\", fes_screen.ndof)"
   ]
  },
  {
   "cell_type": "code",
   "execution_count": null,
   "id": "a3a398e7-46cf-4c6b-8c3c-c8ad274e3c29",
   "metadata": {},
   "outputs": [],
   "source": [
    "kappa = 5"
   ]
  },
  {
   "cell_type": "code",
   "execution_count": null,
   "id": "8bb506fb-8435-4434-9964-51c0d7ad19b6",
   "metadata": {},
   "outputs": [],
   "source": [
    "with TaskManager():\n",
    "    V = HelmholtzSingleLayerPotentialOperator(fes_sphere, fes_sphere, kappa=kappa, intorder=10)\n",
    "    K = HelmholtzDoubleLayerPotentialOperator(fes_sphere, fes_sphere, kappa=kappa, intorder=10)\n",
    "    C = HelmholtzCombinedFieldOperator(fes_sphere, fes_sphere, kappa=kappa, intorder=10)\n",
    "    u,v  = fes_sphere.TnT()\n",
    "    Id = BilinearForm(u*v*ds).Assemble()"
   ]
  },
  {
   "cell_type": "code",
   "execution_count": null,
   "id": "8ccba963-694e-4da0-b832-2c1a0e46c764",
   "metadata": {},
   "outputs": [],
   "source": [
    "lhs = 0.5 * Id.mat + C.mat\n",
    "source = exp(1j * kappa * x) \n",
    "rhs = LinearForm(-source*v*ds).Assemble()"
   ]
  },
  {
   "cell_type": "code",
   "execution_count": null,
   "id": "1bea9bba-d4c3-4efa-b59a-22c662d61660",
   "metadata": {},
   "outputs": [],
   "source": [
    "gfu = GridFunction(fes_sphere)\n",
    "pre = BilinearForm(u*v*ds, diagonal=True).Assemble().mat.Inverse()\n",
    "with TaskManager():\n",
    "    gfu.vec[:] = solvers.GMRes(A=lhs, b=rhs.vec, pre=pre, maxsteps=10)"
   ]
  },
  {
   "cell_type": "code",
   "execution_count": null,
   "id": "c802980b-0217-4b71-9672-2ded16558d6d",
   "metadata": {
    "scrolled": true
   },
   "outputs": [],
   "source": [
    "Draw (gfu, order=5, min=-1, max=1);"
   ]
  },
  {
   "cell_type": "markdown",
   "id": "6248988e-c111-49e1-84bf-9f34cefdd7d1",
   "metadata": {},
   "source": [
    "## prostprocessing on screen"
   ]
  },
  {
   "cell_type": "code",
   "execution_count": null,
   "id": "bd231a11-506c-4e4a-8b40-af0689c83b38",
   "metadata": {
    "scrolled": true
   },
   "outputs": [],
   "source": [
    "uscat = GridFunction(fes_screen)\n",
    "with TaskManager():\n",
    "    uscat.Set(1j*kappa*V.GetPotential(gfu)-K.GetPotential(gfu) , definedon=mesh.Boundaries(\"screen\"))"
   ]
  },
  {
   "cell_type": "code",
   "execution_count": null,
   "id": "63f2e68c-f742-4f7c-a407-224e312b58c9",
   "metadata": {},
   "outputs": [],
   "source": [
    "print (\"Scattered field\")\n",
    "Draw (uscat, mesh, min=-1,max=1, animate_complex=True, order=4);"
   ]
  },
  {
   "cell_type": "code",
   "execution_count": null,
   "id": "a5bf3326-09e0-4940-8eb3-5751856240cb",
   "metadata": {
    "scrolled": true
   },
   "outputs": [],
   "source": [
    "uin = mesh.BoundaryCF( {\"screen\": source }, default=0)\n",
    "print (\"Total field\")\n",
    "Draw (uin-uscat, mesh, min=-1,max=1, animate_complex=True, order=4);"
   ]
  },
  {
   "cell_type": "markdown",
   "id": "e659eb29-af77-4ba9-bedc-da32a35c8bab",
   "metadata": {},
   "source": [
    "Scattering from sphere with $D = 50 \\lambda$. About 1h on Macbook Apple M4 Pro\n",
    "\n",
    "<img src=\"wave50.png\" alt=\"Alternative text\" width=\"800\" align=\"center\"/>\n"
   ]
  },
  {
   "cell_type": "code",
   "execution_count": null,
   "id": "50491dc8-697a-480b-bcd0-ef2f29738d02",
   "metadata": {},
   "outputs": [],
   "source": []
  },
  {
   "cell_type": "code",
   "execution_count": null,
   "id": "f9992cd4-1d9d-437b-9ebf-15e6ebf4da9d",
   "metadata": {},
   "outputs": [],
   "source": []
  }
 ],
 "metadata": {
  "kernelspec": {
   "display_name": "Python 3 (ipykernel)",
   "language": "python",
   "name": "python3"
  },
  "language_info": {
   "codemirror_mode": {
    "name": "ipython",
    "version": 3
   },
   "file_extension": ".py",
   "mimetype": "text/x-python",
   "name": "python",
   "nbconvert_exporter": "python",
   "pygments_lexer": "ipython3",
   "version": "3.13.5"
  },
  "widgets": {
   "application/vnd.jupyter.widget-state+json": {
    "state": {},
    "version_major": 2,
    "version_minor": 0
   }
  }
 },
 "nbformat": 4,
 "nbformat_minor": 5
}
