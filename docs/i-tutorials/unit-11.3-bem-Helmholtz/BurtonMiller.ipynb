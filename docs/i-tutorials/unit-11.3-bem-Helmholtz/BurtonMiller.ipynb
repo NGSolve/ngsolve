{
 "cells": [
  {
   "cell_type": "markdown",
   "id": "c258b181-d56d-4330-b6c9-2d4447d5e6b0",
   "metadata": {},
   "source": [
    "# Helmholtz solver using Burton Miller formulation"
   ]
  },
  {
   "cell_type": "markdown",
   "id": "e8b4732c-ac4f-440a-aa35-f1e069eaede3",
   "metadata": {},
   "source": [
    "https://github.com/bempp/bempp-cl/blob/main/notebooks/helmholtz/helmholtz_combined_exterior.ipynb"
   ]
  },
  {
   "cell_type": "code",
   "execution_count": null,
   "id": "04c8c4a0-d3ab-4ca1-8a84-c5e26d27a529",
   "metadata": {},
   "outputs": [],
   "source": [
    "from netgen.occ import *\n",
    "from ngsolve import *\n",
    "from ngsolve.webgui import Draw\n",
    "from ngsolve.bem import *\n",
    "from ngsolve import Projector, Preconditioner\n",
    "from ngsolve.krylovspace import CG, GMRes"
   ]
  },
  {
   "cell_type": "code",
   "execution_count": null,
   "id": "c14ee523-32f4-4650-903c-6948b9462faf",
   "metadata": {},
   "outputs": [],
   "source": [
    "order=4"
   ]
  },
  {
   "cell_type": "code",
   "execution_count": null,
   "id": "8fb15e57-0511-4804-86a1-cb7334940730",
   "metadata": {},
   "outputs": [],
   "source": [
    "screen = WorkPlane(Axes( (0,0,0), Z, X)).RectangleC(15,15).Face()\n",
    "\n",
    "sp = Fuse(Sphere( (0,0,0), pi).faces)\n",
    "screen.faces.name=\"screen\"\n",
    "sp.faces.name=\"sphere\"\n",
    "shape = Compound([screen,sp])\n",
    "# Draw (shape)\n",
    "mesh = Mesh( OCCGeometry(shape).GenerateMesh(maxh=0.5)).Curve(order)\n",
    "Draw (mesh);"
   ]
  },
  {
   "cell_type": "code",
   "execution_count": null,
   "id": "f7de0337-2303-423a-9b5c-23c7a29afe78",
   "metadata": {},
   "outputs": [],
   "source": [
    "fes_sphere = Compress(SurfaceL2(mesh, order=order, dual_mapping=False, complex=True, definedon=mesh.Boundaries(\"sphere\")))\n",
    "fes_sphere_test = Compress(SurfaceL2(mesh, order=order, dual_mapping=False, complex=True, definedon=mesh.Boundaries(\"sphere\")))\n",
    "fes_screen = Compress(SurfaceL2(mesh, order=order, dual_mapping=True, complex=True, definedon=mesh.Boundaries(\"screen\")))\n",
    "print (\"ndof_sphere = \", fes_sphere.ndof, \"ndof_screen =\", fes_screen.ndof)"
   ]
  },
  {
   "cell_type": "code",
   "execution_count": null,
   "id": "a3a398e7-46cf-4c6b-8c3c-c8ad274e3c29",
   "metadata": {},
   "outputs": [],
   "source": [
    "kappa = 10\n",
    "optV = dict (intorder=10)\n",
    "opt = dict (intorder=10)"
   ]
  },
  {
   "cell_type": "code",
   "execution_count": null,
   "id": "8bb506fb-8435-4434-9964-51c0d7ad19b6",
   "metadata": {},
   "outputs": [],
   "source": [
    "with TaskManager():\n",
    "    V = HelmholtzSingleLayerPotentialOperator(fes_sphere, fes_sphere_test, kappa=kappa, **optV)\n",
    "    C = HelmholtzCombinedFieldOperator(fes_sphere, fes_sphere_test, kappa=kappa, **opt)\n",
    "    u = fes_sphere.TrialFunction()\n",
    "    v = fes_sphere_test.TestFunction()\n",
    "    Id = BilinearForm(u*v*ds).Assemble()"
   ]
  },
  {
   "cell_type": "code",
   "execution_count": null,
   "id": "8ccba963-694e-4da0-b832-2c1a0e46c764",
   "metadata": {},
   "outputs": [],
   "source": [
    "lhs = 0.5 * Id.mat + C.mat\n",
    "source = 1j * kappa * exp(1j * kappa * x) * (specialcf.normal(3)[0]-1)\n",
    "rhs = LinearForm(source*v*ds).Assemble()"
   ]
  },
  {
   "cell_type": "code",
   "execution_count": null,
   "id": "1bea9bba-d4c3-4efa-b59a-22c662d61660",
   "metadata": {},
   "outputs": [],
   "source": [
    "gfu = GridFunction(fes_sphere)\n",
    "pre = BilinearForm(u*v*ds, diagonal=True).Assemble().mat.Inverse(inverse=\"sparsecholesky\")\n",
    "with TaskManager():\n",
    "    gfu.vec[:] = GMRes(A=lhs, b=rhs.vec, pre=pre, maxsteps=10)"
   ]
  },
  {
   "cell_type": "code",
   "execution_count": null,
   "id": "c802980b-0217-4b71-9672-2ded16558d6d",
   "metadata": {
    "scrolled": true
   },
   "outputs": [],
   "source": [
    "Draw (gfu, order=5, min=-5, max=5);"
   ]
  },
  {
   "cell_type": "markdown",
   "id": "6248988e-c111-49e1-84bf-9f34cefdd7d1",
   "metadata": {},
   "source": [
    "# prostprocessing on screen"
   ]
  },
  {
   "cell_type": "code",
   "execution_count": null,
   "id": "bd231a11-506c-4e4a-8b40-af0689c83b38",
   "metadata": {
    "scrolled": true
   },
   "outputs": [],
   "source": [
    "gf_screen = GridFunction(fes_screen)\n",
    "print (\"ndofscreen=\", fes_screen.ndof)\n",
    "with TaskManager():\n",
    "    gf_screen.Set (V.GetPotential(gfu), definedon=mesh.Boundaries(\"screen\"))"
   ]
  },
  {
   "cell_type": "code",
   "execution_count": null,
   "id": "a5bf3326-09e0-4940-8eb3-5751856240cb",
   "metadata": {
    "scrolled": true
   },
   "outputs": [],
   "source": [
    "scatter = mesh.BoundaryCF( {\"screen\":gf_screen- exp(1j * kappa * x)}, default=0)\n",
    "print (\"Total field\")\n",
    "Draw (scatter, mesh, min=-1,max=1, animate_complex=True, order=4);"
   ]
  },
  {
   "cell_type": "code",
   "execution_count": null,
   "id": "be4638d6-89cc-42e1-aabc-15ee8f4e07a4",
   "metadata": {},
   "outputs": [],
   "source": [
    "print (\"Scattered field only:\")\n",
    "Draw (gf_screen, mesh, min=-1,max=1, animate_complex=True, order=4);"
   ]
  },
  {
   "cell_type": "code",
   "execution_count": null,
   "id": "2190e7fe-b752-49f8-89a7-5521952686e4",
   "metadata": {},
   "outputs": [],
   "source": []
  },
  {
   "cell_type": "code",
   "execution_count": null,
   "id": "50491dc8-697a-480b-bcd0-ef2f29738d02",
   "metadata": {},
   "outputs": [],
   "source": []
  },
  {
   "cell_type": "code",
   "execution_count": null,
   "id": "f9992cd4-1d9d-437b-9ebf-15e6ebf4da9d",
   "metadata": {},
   "outputs": [],
   "source": []
  }
 ],
 "metadata": {
  "kernelspec": {
   "display_name": "Python 3 (ipykernel)",
   "language": "python",
   "name": "python3"
  },
  "language_info": {
   "codemirror_mode": {
    "name": "ipython",
    "version": 3
   },
   "file_extension": ".py",
   "mimetype": "text/x-python",
   "name": "python",
   "nbconvert_exporter": "python",
   "pygments_lexer": "ipython3",
   "version": "3.13.4"
  },
  "widgets": {
   "application/vnd.jupyter.widget-state+json": {
    "state": {},
    "version_major": 2,
    "version_minor": 0
   }
  }
 },
 "nbformat": 4,
 "nbformat_minor": 5
}
