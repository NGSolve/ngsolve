{
 "cells": [
  {
   "cell_type": "markdown",
   "id": "8364e903-c1a4-44cf-8257-1a7d1820e6e2",
   "metadata": {},
   "source": [
    "# Where to go next ?\n",
    "\n",
    "Now you are highly motivated to explore and learn more about NGSolve. Where can you continue reading ? \n",
    "\n",
    "## The i-tutorials\n",
    "\n",
    "The [tutorials](https://docu.ngsolve.org/latest/i-tutorials/index.html#getting-started) below form the most complete user manual to NGSolve. They explain the building blocks of NGSolve, like meshes, CoefficientFunctions, and FFESpaces. They are built with every new (pre)release of NGSolve, so they are kept up to date with the latest syntax. They assume that you are somehow familiar with the covered methods. Various chapters are written by individual authors, who are also the maintainers of the contents.\n",
    "\n",
    "## The NGS24 tutorials\n",
    "\n",
    "For the NGSolve 24 usermeeting we prepared tutorials from the application oriented viewpoint, like fluid dynamics or solid mechanics. These are the [NG24 tutorials](https://docu.ngsolve.org/ngs24/intro.html). Here you find also more complex examples, like the TEAM benchmarks for electromagnetics. From there you find also plenty of links to add-on packages.\n",
    "\n",
    "## The i-FEM course material\n",
    "\n",
    "The [i-FEM course material](https://jschoeberl.github.io/iFEM/intro.html) is a finite element course teaching finite element numerical analysis and methods by J. Schöberl. Look here if you want to learn more about the mathematical background of the methods.\n",
    "Here is a more elementary class material [Introduction to Scientific Computing](https://jschoeberl.github.io/IntroSC/PDEs/first_example.html)\n",
    "\n",
    "## Some more links to online resources\n",
    "\n",
    "* Some random examples [treasure trove](https://jschoeberl.github.io/treasuretrove/intro.html) (J. Schöberl)\n",
    "* much more here ....\n"
   ]
  },
  {
   "cell_type": "code",
   "execution_count": null,
   "id": "e516cc84-8aa7-4277-9090-c628e51461b6",
   "metadata": {},
   "outputs": [],
   "source": []
  },
  {
   "cell_type": "code",
   "execution_count": null,
   "id": "fa31278e-b90c-4f9a-9e52-521308b5c615",
   "metadata": {},
   "outputs": [],
   "source": []
  }
 ],
 "metadata": {
  "kernelspec": {
   "display_name": "Python 3 (ipykernel)",
   "language": "python",
   "name": "python3"
  },
  "language_info": {
   "codemirror_mode": {
    "name": "ipython",
    "version": 3
   },
   "file_extension": ".py",
   "mimetype": "text/x-python",
   "name": "python",
   "nbconvert_exporter": "python",
   "pygments_lexer": "ipython3",
   "version": "3.13.4"
  },
  "widgets": {
   "application/vnd.jupyter.widget-state+json": {
    "state": {},
    "version_major": 2,
    "version_minor": 0
   }
  }
 },
 "nbformat": 4,
 "nbformat_minor": 5
}
