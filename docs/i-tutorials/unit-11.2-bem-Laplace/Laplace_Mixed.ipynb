{
 "cells": [
  {
   "cell_type": "markdown",
   "id": "51bdeb80-02e0-4682-8062-976bdc02fd31",
   "metadata": {},
   "source": [
    "Laplace mixed boundary values\n",
    "==============================\n",
    "\n",
    "WIP\n",
    "\n",
    "**keys**: homogeneous Laplace bvp, Calderon projector, Dirichlet data, Neumann data "
   ]
  },
  {
   "cell_type": "code",
   "execution_count": null,
   "id": "979ea90d-25a0-4090-afee-8c10b3036030",
   "metadata": {},
   "outputs": [],
   "source": [
    "from ngsolve import *\n",
    "from netgen.occ import *\n",
    "from ngsolve.krylovspace import CG, GMRes\n",
    "from ngsolve.webgui import Draw\n",
    "from ngsolve.bem import *"
   ]
  },
  {
   "cell_type": "markdown",
   "id": "b564504d-968b-42d4-8ad1-0ecdfdea5072",
   "metadata": {},
   "source": [
    "We consider an interior boundary value problem with mixed boundary conditions like this:\n",
    "\n",
    "|  |  |  |\n",
    "| -|--|- |\n",
    "| $ \\begin{array}{r rcl r} & \\Delta u &=& 0  &\\mathrm{in}\\; \\Omega\\,,\\\\ \\textnormal{Dirichlet condition} & \\gamma_0 u &=& u_0 & \\mathrm{on}\\; \\Gamma_0\\,,\\\\ \\textnormal{Neumann condition} & \\gamma_1 u &=&  u_1 & \\mathrm{on}\\; \\Gamma_1\\,. \\end{array} $   | $\\quad\\quad\\quad$  | ![](resources/BEM_Mixed.png)  |"
   ]
  },
  {
   "cell_type": "code",
   "execution_count": null,
   "id": "756e9f3c-f8e8-4f20-8760-55ec37b4ffbf",
   "metadata": {
    "scrolled": true
   },
   "outputs": [],
   "source": [
    "topsphere = Sphere((0,0,0), 1) * Box((-1,-1,0),(1,1,1))\n",
    "botsphere = Sphere((0,0,0), 1) - Box((-1,-1,0),(1,1,1))\n",
    "topsphere.faces.name = \"neumann\"\n",
    "botsphere.faces.name = \"dirichlet\"\n",
    "shape = Fuse( [topsphere,botsphere] )\n",
    "\n",
    "order = 2\n",
    "mesh = Mesh(OCCGeometry(shape).GenerateMesh(maxh=0.3)).Curve(order)\n",
    "Draw (mesh);"
   ]
  },
  {
   "cell_type": "markdown",
   "id": "431bc471-c56d-4c1e-b62f-8b9b7d41ae68",
   "metadata": {},
   "source": [
    "The following representation formula for the solution $u$ holds:\n",
    "\n",
    "$$ x \\in \\Omega: \\quad u(x) =  \\displaystyle{ \\int\\limits_\\Gamma} \\displaystyle{\\frac{1}{4\\,\\pi}\\, \\frac{1}{\\| x-y\\|} } \\, \\gamma_1 u (y)\\, \\mathrm{d}\\sigma_y - \\displaystyle{ \\int\\limits_\\Gamma} \\displaystyle{\\frac{1}{4\\,\\pi}\\, \\frac{\\langle n(y) , x-y\\rangle }{\\| x-y\\|^3} } \\, \\gamma_0 u (y)\\, \\mathrm{d}\\sigma_y\\,. $$ \n",
    "\n",
    "The Calderon projector relates the Dirichlet and the Neumann traces of the solution $u$, i.e., \n",
    "\n",
    "  \n",
    "$$  \\left( \\begin{array}{c} \\gamma_0 u \\\\ \\gamma_1 u \\end{array}\\right) =  \\left( \\begin{array}{cc} V & \\frac12 - K \\\\ \\frac12 + K^\\intercal & D \\end{array} \\right)  \\left( \\begin{array}{c} \\gamma_1 u \\\\ \\gamma_0 u \\end{array}\\right)\\,, $$\n",
    "\n",
    "and we use it to solve for the Dirchlet trace on $\\Gamma_1$ and the Neumann trace on $\\Gamma_0$. "
   ]
  },
  {
   "cell_type": "markdown",
   "id": "013dba64-39ba-419c-81dd-4f4b13b2e440",
   "metadata": {},
   "source": [
    "Define the finite element spaces for the Dirichlet and the Neumann data:"
   ]
  },
  {
   "cell_type": "code",
   "execution_count": null,
   "id": "84f70bba-7467-492c-9b48-a551b380a1b0",
   "metadata": {},
   "outputs": [],
   "source": [
    "# use L2 conform elements for the Neumann trace, label all dofs where Neumann data is given:\n",
    "fesL2 = SurfaceL2(mesh, order=order-1, dirichlet=\"neumann\")\n",
    "u,v = fesL2.TnT()\n",
    "\n",
    "# use H1 conform elements for the Dirichlet trace, label all dofs where Dirichlet data is given:\n",
    "fesH1 = H1(mesh, order=order, dirichlet=\"dirichlet\", definedon=mesh.Boundaries(\".*\"))\n",
    "u1,v1 = fesH1.TnT()\n",
    "\n",
    "print (\"ndofL2 = \", fesL2.ndof, \"ndofH1 = \", fesH1.ndof)"
   ]
  },
  {
   "cell_type": "markdown",
   "id": "95210bf5-256a-4617-b795-1bac007a3cd1",
   "metadata": {},
   "source": [
    "Compute and set the Dirichlet and the Neumann data:"
   ]
  },
  {
   "cell_type": "code",
   "execution_count": null,
   "id": "2efdaed4-1832-45bc-9dd1-3e2e957eb5b5",
   "metadata": {},
   "outputs": [],
   "source": [
    "uexa = CF(x)\n",
    "ud = GridFunction(fesH1)\n",
    "ud.Interpolate(uexa, definedon=mesh.Boundaries(\"dirichlet\"))\n",
    "\n",
    "n = specialcf.normal(3)\n",
    "gradn_uexa = CF((uexa.Diff(x), uexa.Diff(y), uexa.Diff(z))) * n\n",
    "un = GridFunction(fesL2)\n",
    "un.Interpolate(gradn_uexa, definedon=mesh.Boundaries(\"neumann\"))\n",
    "\n",
    "Draw(ud, mesh, draw_vol=False);"
   ]
  },
  {
   "cell_type": "markdown",
   "id": "a877e2cd-f350-4517-96bb-a263485a1e78",
   "metadata": {},
   "source": [
    "Compute boundary integral operators $\\mathrm{V}, \\mathrm{K}, \\mathrm{W}$ and the mass matrix $\\mathrm{M}$:"
   ]
  },
  {
   "cell_type": "code",
   "execution_count": null,
   "id": "3adf260a-ee03-42d0-85e6-7342ffbc4bde",
   "metadata": {},
   "outputs": [],
   "source": [
    "intorder = 2 * order + 6\n",
    "with TaskManager():\n",
    "    V = SingleLayerPotentialOperator(fesL2, intorder=intorder)\n",
    "    K = DoubleLayerPotentialOperator(fesH1, fesL2, intorder=intorder)\n",
    "    W = HypersingularOperator(fesH1, intorder=intorder)\n",
    "    M = BilinearForm(u1.Trace() * v.Trace() * ds(bonus_intorder=3)).Assemble()"
   ]
  },
  {
   "cell_type": "markdown",
   "id": "ebf4e638-5569-4514-8ebb-c37b04fa7cd0",
   "metadata": {},
   "source": [
    "Insert all given data in the Dirichlet-to-Neumann map and compute the right hand side vector: "
   ]
  },
  {
   "cell_type": "code",
   "execution_count": null,
   "id": "9f5a579e-a7b0-4fc6-a56e-fdbd109ac5b6",
   "metadata": {},
   "outputs": [],
   "source": [
    "with TaskManager():\n",
    "    fd = ((0.5 * M.mat + K.mat) * ud.vec - V.mat * un.vec).Evaluate()\n",
    "    fn = ((0.5 * M.mat.T - K.mat.T) * un.vec - W.mat * ud.vec).Evaluate()"
   ]
  },
  {
   "cell_type": "markdown",
   "id": "405b496d-c79f-49f0-bd2d-2ceabc5fa876",
   "metadata": {},
   "source": [
    "Solve for the missing trace data:"
   ]
  },
  {
   "cell_type": "code",
   "execution_count": null,
   "id": "45043c43-6a37-4887-9293-ae4eb1f0f4c5",
   "metadata": {},
   "outputs": [],
   "source": [
    "with TaskManager():\n",
    "    pred = BilinearForm(u.Trace() * v.Trace() * ds(bonus_intorder=3), check_unused=False).Assemble()\n",
    "    pren = BilinearForm(u1.Trace() * v1.Trace() * ds(bonus_intorder=3), check_unused=False).Assemble()\n",
    "\n",
    "lhs = BlockMatrix([[V.mat, - K.mat], [K.mat.T, W.mat]])\n",
    "rhs = BlockVector([fd, fn])\n",
    "pre = BlockMatrix ([[pred.mat.Inverse(freedofs=fesL2.FreeDofs()), None], [None, pren.mat.Inverse(freedofs=fesH1.FreeDofs())]])\n",
    "\n",
    "sol = GMRes(A=lhs, b=rhs, pre=pre, tol=1e-8, maxsteps=30) # just for tests"
   ]
  },
  {
   "cell_type": "markdown",
   "id": "d0be955b-8a80-45b9-8a93-4ae176f85cb6",
   "metadata": {},
   "source": [
    "Have a look at the Neumann data on $\\Gamma_0$ and compute the error:"
   ]
  },
  {
   "cell_type": "code",
   "execution_count": null,
   "id": "dc335873-1f14-451a-b3fd-d306e0831cd1",
   "metadata": {},
   "outputs": [],
   "source": [
    "gfu = GridFunction(fesL2)\n",
    "gfu.vec[:] = sol[0]\n",
    "print (\"L2 error of surface gradients =\", sqrt(Integrate((gradn_uexa - gfu -un)**2, mesh.Boundaries(\".*\"), BND)))\n",
    "Draw(gfu)"
   ]
  },
  {
   "cell_type": "markdown",
   "id": "e0dbb134-143a-4efc-bdbd-a30c476d7eda",
   "metadata": {},
   "source": [
    "Have a look at the Dirichlet data on $\\Gamma_1$ and compute the error:"
   ]
  },
  {
   "cell_type": "code",
   "execution_count": null,
   "id": "b69b51bb-8fc7-4ed8-993b-154e3b95bbe2",
   "metadata": {},
   "outputs": [],
   "source": [
    "gfu = GridFunction(fesH1)\n",
    "gfu.vec[:] = sol[1]\n",
    "print (\"L2 error Dirichlet =\", sqrt(Integrate((uexa - gfu -ud)**2, mesh.Boundaries(\".*\"), BND)))\n",
    "Draw(gfu)"
   ]
  },
  {
   "cell_type": "code",
   "execution_count": null,
   "id": "c35f73dc-3e40-482a-ba72-a7e03e16637a",
   "metadata": {},
   "outputs": [],
   "source": []
  },
  {
   "cell_type": "code",
   "execution_count": null,
   "id": "493395d9-aaf7-4023-bb6c-3a968ebe3e4b",
   "metadata": {},
   "outputs": [],
   "source": []
  },
  {
   "cell_type": "code",
   "execution_count": null,
   "id": "7da955a7-114f-47ce-8e0d-f2a57f242975",
   "metadata": {},
   "outputs": [],
   "source": []
  }
 ],
 "metadata": {
  "kernelspec": {
   "display_name": "Python 3 (ipykernel)",
   "language": "python",
   "name": "python3"
  },
  "language_info": {
   "codemirror_mode": {
    "name": "ipython",
    "version": 3
   },
   "file_extension": ".py",
   "mimetype": "text/x-python",
   "name": "python",
   "nbconvert_exporter": "python",
   "pygments_lexer": "ipython3",
   "version": "3.13.4"
  },
  "widgets": {
   "application/vnd.jupyter.widget-state+json": {
    "state": {},
    "version_major": 2,
    "version_minor": 0
   }
  }
 },
 "nbformat": 4,
 "nbformat_minor": 5
}
