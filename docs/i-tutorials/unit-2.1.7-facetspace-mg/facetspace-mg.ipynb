{
 "cells": [
  {
   "cell_type": "markdown",
   "id": "84bacb8c-f584-4611-a77a-6995c731d8c4",
   "metadata": {},
   "source": [
    "# Multigrid for hybrid methods"
   ]
  },
  {
   "cell_type": "code",
   "execution_count": null,
   "id": "5e2e70da-ac51-4d9c-a5ca-b0433fe146cd",
   "metadata": {},
   "outputs": [],
   "source": [
    "from ngsolve import *\n",
    "from ngsolve.webgui import Draw\n",
    "from ngsolve.la import EigenValues_Preconditioner"
   ]
  },
  {
   "cell_type": "code",
   "execution_count": null,
   "id": "7903e270-0957-4854-9ce4-6a71cc898350",
   "metadata": {},
   "outputs": [],
   "source": [
    "ngmesh = unit_square.GenerateMesh(maxh=2)\n",
    "mesh = Mesh(ngmesh)\n",
    "\n",
    "order = 3\n",
    "\n",
    "fes = L2(mesh, order=order) * FacetFESpace(mesh, order=order, hoprolongation=True, dirichlet=\".*\")\n",
    "(u,uhat), (v,vhat) = fes.TnT()\n",
    "n = specialcf.normal(2)\n",
    "h = specialcf.mesh_size\n",
    "dS = dx(element_vb=BND)\n",
    "HDGform = u*v*dx+ grad(u)*grad(v)*dx - n*grad(u)*(v-vhat)*dS - n*grad(v)*(u-uhat)*dS + 5*(order+1)**2/h*(u-uhat)*(v-vhat)*dS\n",
    "bfa = BilinearForm(HDGform, condense=True).Assemble()\n",
    "fes.SetHarmonicProlongation(bfa, inverse=\"sparsecholesky\")\n",
    "pre = preconditioners.MultiGrid(bfa, smoother=\"block\", blocktype=[\"vertexpatch\"], cycle=1)"
   ]
  },
  {
   "cell_type": "code",
   "execution_count": null,
   "id": "9fc2bbe2-cbac-49fc-bcdb-e8a0643753db",
   "metadata": {},
   "outputs": [],
   "source": [
    "with TaskManager(pajetrace=10**8):\n",
    "    for l in range(6):\n",
    "        mesh.Refine()\n",
    "        bfa.Assemble()\n",
    "        # pre.Update()\n",
    "        lam = EigenValues_Preconditioner(bfa.mat, pre)\n",
    "        print (\"l =\", l, \"ndof =\", fes.ndof, \"lam_min/lam_max = \", lam[0], lam[-1])"
   ]
  },
  {
   "cell_type": "code",
   "execution_count": null,
   "id": "8206d4ca-50df-42aa-8b28-4ece47c07f90",
   "metadata": {},
   "outputs": [],
   "source": [
    "f = LinearForm (x*v*dx).Assemble()\n",
    "gfu = GridFunction(fes)\n",
    "gfu.vec[:]=0\n",
    "with TaskManager(pajetrace=10**8):\n",
    "    solvers.BVP(bfa, f, gfu, pre, print=True)"
   ]
  },
  {
   "cell_type": "code",
   "execution_count": null,
   "id": "15b5461e-d722-4c0b-9f50-424e59e29dbe",
   "metadata": {},
   "outputs": [],
   "source": [
    "Draw (gfu.components[0]);"
   ]
  },
  {
   "cell_type": "markdown",
   "id": "1f873fb0-f7c3-4dfa-a9f1-15e9463f4a8a",
   "metadata": {},
   "source": [
    "## Nearly incompressible materials, H(div)-conforming HDG"
   ]
  },
  {
   "cell_type": "code",
   "execution_count": null,
   "id": "8fac31a3-2d3a-488c-953e-9875c2118695",
   "metadata": {},
   "outputs": [],
   "source": [
    "ngmesh = unit_square.GenerateMesh(maxh=0.3)\n",
    "mesh = Mesh(ngmesh)\n",
    "\n",
    "order = 3\n",
    "\n",
    "fesT = HDiv(mesh, order=order, hoprolongation=True, dirichlet=\".*\")\n",
    "fesF = TangentialFacetFESpace(mesh, order=order, hoprolongation=True, highest_order_dc=True, dirichlet=\".*\")\n",
    "fes = fesT*fesF\n",
    "\n",
    "(u,uhat), (v,vhat) = fes.TnT()\n",
    "n = specialcf.normal(2)\n",
    "def tang(v): return v-(v*n)*n\n",
    "h = specialcf.mesh_size\n",
    "dS = dx(element_vb=BND)\n",
    "\n",
    "HDGform = InnerProduct(Grad(u),Grad(v))*dx - (Grad(u)*n)*tang(v-vhat)*dS - (Grad(v)*n)*tang(u-uhat)*dS \\\n",
    "    + 1*(order+1)**2/h*tang(u-uhat)*tang(v-vhat)*dS\n",
    "\n",
    "bfa = BilinearForm(HDGform + 1e3*div(u)*div(v)*dx, condense=True).Assemble()\n",
    "fes.SetHarmonicProlongation(bfa)\n",
    "pre = preconditioners.MultiGrid(bfa, smoother=\"block\", smoothingsteps=1, blocktype=[\"vertexpatch\"], cycle=1)"
   ]
  },
  {
   "cell_type": "code",
   "execution_count": null,
   "id": "5a5be8c0-7a91-4edb-ac5b-98de26c55546",
   "metadata": {},
   "outputs": [],
   "source": [
    "with TaskManager(pajetrace=10**8):\n",
    "    for l in range(4):\n",
    "        mesh.Refine()\n",
    "        bfa.Assemble()\n",
    "        lam = EigenValues_Preconditioner(bfa.mat, pre)\n",
    "        print (\"l =\", l, \"ndof =\", fes.ndof, lam[0], lam[-1])"
   ]
  },
  {
   "cell_type": "code",
   "execution_count": null,
   "id": "4e6e52a9-011e-44c8-85f1-9e096ccbc5be",
   "metadata": {},
   "outputs": [],
   "source": [
    "with TaskManager(pajetrace=10**8):\n",
    "    f = LinearForm ((0.5-y)*v[0]*dx).Assemble()\n",
    "gfu = GridFunction(fes)\n",
    "gfu.vec[:]=0\n",
    "with TaskManager(pajetrace=10**8):\n",
    "    solvers.BVP(bfa, f, gfu, pre, print=True)"
   ]
  },
  {
   "cell_type": "code",
   "execution_count": null,
   "id": "0eab9f51-bf68-492f-b400-19956c7e580e",
   "metadata": {},
   "outputs": [],
   "source": []
  }
 ],
 "metadata": {
  "kernelspec": {
   "display_name": "Python 3 (ipykernel)",
   "language": "python",
   "name": "python3"
  },
  "language_info": {
   "codemirror_mode": {
    "name": "ipython",
    "version": 3
   },
   "file_extension": ".py",
   "mimetype": "text/x-python",
   "name": "python",
   "nbconvert_exporter": "python",
   "pygments_lexer": "ipython3",
   "version": "3.13.4"
  },
  "widgets": {
   "application/vnd.jupyter.widget-state+json": {
    "state": {},
    "version_major": 2,
    "version_minor": 0
   }
  }
 },
 "nbformat": 4,
 "nbformat_minor": 5
}
