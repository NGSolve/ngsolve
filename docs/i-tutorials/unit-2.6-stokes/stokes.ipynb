{
 "cells": [
  {
   "cell_type": "markdown",
   "metadata": {},
   "source": [
    "# 2.6 Stokes equation"
   ]
  },
  {
   "cell_type": "markdown",
   "metadata": {},
   "source": [
    "Find $u \\in [H^1_D]^2$ and $p \\in L_2$ such that\n",
    "\n",
    "$$\n",
    "\\DeclareMathOperator{\\Div}{div}\n",
    "\\begin{array}{ccccll}\n",
    "\\int \\nabla u : \\nabla v & + & \\int \\Div v \\, p & = & \\int f v & \\forall \\, v \\\\\n",
    "\\int \\Div u \\, q &  &  & = & 0 & \\forall \\, q\n",
    "\\end{array}\n",
    "$$"
   ]
  },
  {
   "cell_type": "markdown",
   "metadata": {},
   "source": [
    "Define channel geometry and mesh it:"
   ]
  },
  {
   "cell_type": "code",
   "execution_count": null,
   "metadata": {},
   "outputs": [],
   "source": [
    "from ngsolve import *\n",
    "import netgen.gui\n",
    "\n",
    "from netgen.geom2d import SplineGeometry\n",
    "geo = SplineGeometry()\n",
    "geo.AddRectangle( (0, 0), (2, 0.41), bcs = (\"wall\", \"outlet\", \"wall\", \"inlet\"))\n",
    "geo.AddCircle ( (0.2, 0.2), r=0.05, leftdomain=0, rightdomain=1, bc=\"cyl\")\n",
    "mesh = Mesh( geo.GenerateMesh(maxh=0.05))\n",
    "mesh.Curve(3)\n",
    "Draw (mesh)"
   ]
  },
  {
   "cell_type": "markdown",
   "metadata": {},
   "source": [
    "Use Taylor Hood finite element pairing: Continuous $P^2$ elements for velocity, and continuous $P^1$ for pressure:"
   ]
  },
  {
   "cell_type": "code",
   "execution_count": null,
   "metadata": {},
   "outputs": [],
   "source": [
    "V = H1(mesh, order=2, dirichlet=\"wall|inlet|cyl\")\n",
    "Q = H1(mesh, order=1)\n",
    "X = V*V*Q"
   ]
  },
  {
   "cell_type": "markdown",
   "metadata": {},
   "source": [
    "Setup bilinear-form for Stokes. We give names for all scalar field components. The divergence is constructed from partial derivatives of the velocity components."
   ]
  },
  {
   "cell_type": "code",
   "execution_count": null,
   "metadata": {},
   "outputs": [],
   "source": [
    "ux,uy,p = X.TrialFunction()\n",
    "vx,vy,q = X.TestFunction()\n",
    "\n",
    "div_u = grad(ux)[0]+grad(uy)[1]\n",
    "div_v = grad(vx)[0]+grad(vy)[1]\n",
    "\n",
    "a = BilinearForm(X)\n",
    "a += (grad(ux)*grad(vx)+grad(uy)*grad(vy) + div_u*q + div_v*p) * dx\n",
    "a.Assemble()"
   ]
  },
  {
   "cell_type": "markdown",
   "metadata": {},
   "source": [
    "Set inhomogeneous Dirichlet boundary condition only on inlet boundary:"
   ]
  },
  {
   "cell_type": "code",
   "execution_count": null,
   "metadata": {},
   "outputs": [],
   "source": [
    "gfu = GridFunction(X)\n",
    "uin = 1.5*4*y*(0.41-y)/(0.41*0.41)\n",
    "gfu.components[0].Set(uin, definedon=mesh.Boundaries(\"inlet\"))\n",
    "velocity = CoefficientFunction(gfu.components[0:2])\n",
    "Draw(velocity, mesh, \"vel\")\n",
    "Draw(Norm(velocity), mesh, \"|vel|\")\n",
    "SetVisualization(max=2)"
   ]
  },
  {
   "cell_type": "markdown",
   "metadata": {},
   "source": [
    "Solve equation:"
   ]
  },
  {
   "cell_type": "code",
   "execution_count": null,
   "metadata": {},
   "outputs": [],
   "source": [
    "res = gfu.vec.CreateVector()\n",
    "res.data = -a.mat * gfu.vec\n",
    "inv = a.mat.Inverse(freedofs=X.FreeDofs(), inverse=\"umfpack\")\n",
    "gfu.vec.data += inv * res\n",
    "Redraw()"
   ]
  },
  {
   "cell_type": "markdown",
   "metadata": {},
   "source": [
    "## Testing different velocity-pressure pairs\n",
    "Now we define a Stokes setup function to test different spaces:"
   ]
  },
  {
   "cell_type": "code",
   "execution_count": null,
   "metadata": {},
   "outputs": [],
   "source": [
    "def SolveStokes(X):\n",
    "    ux,uy,p = X.TrialFunction()\n",
    "    vx,vy,q = X.TestFunction()\n",
    "    div_u = grad(ux)[0]+grad(uy)[1]\n",
    "    div_v = grad(vx)[0]+grad(vy)[1]\n",
    "    a = BilinearForm(X)\n",
    "    a += (grad(ux)*grad(vx)+grad(uy)*grad(vy) + div_u*q + div_v*p)*dx\n",
    "    a.Assemble()\n",
    "    gfu = GridFunction(X)\n",
    "    uin = 1.5*4*y*(0.41-y)/(0.41*0.41)\n",
    "    gfu.components[0].Set(uin, definedon=mesh.Boundaries(\"inlet\"))\n",
    "    res = gfu.vec.CreateVector()\n",
    "    res.data = -a.mat * gfu.vec\n",
    "    inv = a.mat.Inverse(freedofs=X.FreeDofs(), inverse=\"umfpack\")\n",
    "    gfu.vec.data += inv * res\n",
    "    \n",
    "\n",
    "    velocity = CoefficientFunction(gfu.components[0:2])\n",
    "    Draw(velocity, mesh, \"vel\")\n",
    "    Draw(Norm(velocity), mesh, \"|vel|\")\n",
    "    SetVisualization(max=2)    \n",
    "    \n",
    "    return gfu"
   ]
  },
  {
   "cell_type": "markdown",
   "metadata": {},
   "source": [
    "Higher order Taylor-Hood elements:"
   ]
  },
  {
   "cell_type": "code",
   "execution_count": null,
   "metadata": {},
   "outputs": [],
   "source": [
    "V = H1(mesh, order=4, dirichlet=\"wall|inlet|cyl\")\n",
    "Q = H1(mesh, order=3)\n",
    "X = V*V*Q\n",
    "\n",
    "gfu = SolveStokes(X)"
   ]
  },
  {
   "cell_type": "markdown",
   "metadata": {},
   "source": [
    "With discontinuous pressure elements P2-P1 is unstable:"
   ]
  },
  {
   "cell_type": "code",
   "execution_count": null,
   "metadata": {
    "tags": [
     "raises-exception"
    ]
   },
   "outputs": [],
   "source": [
    "V = H1(mesh, order=2, dirichlet=\"wall|inlet|cyl\")\n",
    "Q = L2(mesh, order=1)\n",
    "print (\"V.ndof =\", V.ndof, \", Q.ndof =\", Q.ndof)\n",
    "X = V*V*Q\n",
    "\n",
    "gfu = SolveStokes(X)"
   ]
  },
  {
   "cell_type": "markdown",
   "metadata": {},
   "source": [
    "$P^{2,+} \\times P^{1,dc}$ elements:"
   ]
  },
  {
   "cell_type": "code",
   "execution_count": null,
   "metadata": {},
   "outputs": [],
   "source": [
    "V = H1(mesh, order=2, dirichlet=\"wall|inlet|cyl\")\n",
    "V.SetOrder(TRIG,3)\n",
    "V.Update()\n",
    "Q = L2(mesh, order=1)\n",
    "X = V*V*Q\n",
    "print (\"V.ndof =\", V.ndof, \", Q.ndof =\", Q.ndof)\n",
    "\n",
    "gfu = SolveStokes(X)"
   ]
  },
  {
   "cell_type": "markdown",
   "metadata": {},
   "source": [
    "the mini element:"
   ]
  },
  {
   "cell_type": "code",
   "execution_count": null,
   "metadata": {},
   "outputs": [],
   "source": [
    "V = H1(mesh, order=1, dirichlet=\"wall|inlet|cyl\")\n",
    "V.SetOrder(TRIG,3)\n",
    "V.Update()\n",
    "Q = H1(mesh, order=1)\n",
    "X = V*V*Q\n",
    "\n",
    "gfu = SolveStokes(X)"
   ]
  },
  {
   "cell_type": "markdown",
   "metadata": {},
   "source": [
    "## VectorH1 \n",
    "\n",
    "A vector-valued $H^1$-space: Less to type and more possibilities to explore structure and optimize. "
   ]
  },
  {
   "cell_type": "code",
   "execution_count": null,
   "metadata": {},
   "outputs": [],
   "source": [
    "V = VectorH1(mesh, order=2, dirichlet=\"wall|inlet|cyl\")\n",
    "V.SetOrder(TRIG,3)\n",
    "V.Update()\n",
    "Q = L2(mesh, order=1)\n",
    "X = V*Q\n",
    "\n",
    "u,p = X.TrialFunction()\n",
    "v,q = X.TestFunction()\n",
    "\n",
    "a = BilinearForm(X)\n",
    "a += (InnerProduct(grad(u),grad(v))+div(u)*q+div(v)*p)*dx\n",
    "a.Assemble()\n",
    "\n",
    "gfu = GridFunction(X)\n",
    "uin = CoefficientFunction( (1.5*4*y*(0.41-y)/(0.41*0.41), 0) )\n",
    "gfu.components[0].Set(uin, definedon=mesh.Boundaries(\"inlet\"))\n",
    "\n",
    "res = gfu.vec.CreateVector()\n",
    "res.data = -a.mat * gfu.vec\n",
    "inv = a.mat.Inverse(freedofs=X.FreeDofs(), inverse=\"umfpack\")\n",
    "gfu.vec.data += inv * res\n",
    "Draw(gfu.components[0], mesh, \"vel\")\n",
    "Draw(Norm(gfu.components[0]), mesh, \"|vel|\")\n",
    "SetVisualization(max=2)"
   ]
  },
  {
   "cell_type": "markdown",
   "metadata": {},
   "source": [
    "## Stokes as a block-system\n",
    "We can now define separate bilinear-form and matrices for A and B, and combine them to a block-system:"
   ]
  },
  {
   "cell_type": "code",
   "execution_count": null,
   "metadata": {},
   "outputs": [],
   "source": [
    "V = VectorH1(mesh, order=3, dirichlet=\"wall|inlet|cyl\")\n",
    "Q = H1(mesh, order=2)\n",
    "\n",
    "u,v = V.TnT()\n",
    "p,q = Q.TnT()\n",
    "\n",
    "a = BilinearForm(V)\n",
    "a += InnerProduct(Grad(u),Grad(v))*dx\n",
    "\n",
    "b = BilinearForm(trialspace=V, testspace=Q)\n",
    "b += div(u)*q*dx\n",
    "\n",
    "a.Assemble()\n",
    "b.Assemble()"
   ]
  },
  {
   "cell_type": "markdown",
   "metadata": {},
   "source": [
    "Needed as preconditioner for the pressure:"
   ]
  },
  {
   "cell_type": "code",
   "execution_count": null,
   "metadata": {},
   "outputs": [],
   "source": [
    "mp = BilinearForm(Q)\n",
    "mp += p*q*dx\n",
    "mp.Assemble()"
   ]
  },
  {
   "cell_type": "markdown",
   "metadata": {},
   "source": [
    "Two right hand sides for the two spaces:"
   ]
  },
  {
   "cell_type": "code",
   "execution_count": null,
   "metadata": {},
   "outputs": [],
   "source": [
    "f = LinearForm(V)\n",
    "f += CoefficientFunction((0,x-0.5)) * v * dx\n",
    "f.Assemble()\n",
    "\n",
    "g = LinearForm(Q)\n",
    "g.Assemble()"
   ]
  },
  {
   "cell_type": "markdown",
   "metadata": {},
   "source": [
    "Two `GridFunction`s for velocity and pressure:"
   ]
  },
  {
   "cell_type": "code",
   "execution_count": null,
   "metadata": {},
   "outputs": [],
   "source": [
    "gfu = GridFunction(V, name=\"u\")\n",
    "gfp = GridFunction(Q, name=\"p\")\n",
    "uin = CoefficientFunction( (1.5*4*y*(0.41-y)/(0.41*0.41), 0) )\n",
    "gfu.Set(uin, definedon=mesh.Boundaries(\"inlet\"))"
   ]
  },
  {
   "cell_type": "markdown",
   "metadata": {},
   "source": [
    "Combine everything to a block-system.\n",
    "`BlockMatrix` and `BlockVector` store references to the original matrices and vectors, no new large matrices are allocated. The same for the transpose matrix `b.mat.T`. It stores a wrapper for the original matrix, and replaces the call of the `Mult` function by `MultTrans`."
   ]
  },
  {
   "cell_type": "code",
   "execution_count": null,
   "metadata": {},
   "outputs": [],
   "source": [
    "K = BlockMatrix( [ [a.mat, b.mat.T], [b.mat, None] ] )\n",
    "C = BlockMatrix( [ [a.mat.Inverse(V.FreeDofs()), None], [None, mp.mat.Inverse()] ] )\n",
    "\n",
    "rhs = BlockVector ( [f.vec, g.vec] )\n",
    "sol = BlockVector( [gfu.vec, gfp.vec] )\n",
    "\n",
    "solvers.MinRes (mat=K, pre=C, rhs=rhs, sol=sol, initialize=False)"
   ]
  },
  {
   "cell_type": "code",
   "execution_count": null,
   "metadata": {},
   "outputs": [],
   "source": [
    "Draw (gfu)"
   ]
  },
  {
   "cell_type": "code",
   "execution_count": null,
   "metadata": {},
   "outputs": [],
   "source": []
  },
  {
   "cell_type": "code",
   "execution_count": null,
   "metadata": {},
   "outputs": [],
   "source": []
  }
 ],
 "metadata": {
  "kernelspec": {
   "display_name": "Python 3",
   "language": "python",
   "name": "python3"
  },
  "language_info": {
   "codemirror_mode": {
    "name": "ipython",
    "version": 3
   },
   "file_extension": ".py",
   "mimetype": "text/x-python",
   "name": "python",
   "nbconvert_exporter": "python",
   "pygments_lexer": "ipython3",
   "version": "3.8.5"
  },
  "nbsphinx": {
   "allow_errors": true
  }
 },
 "nbformat": 4,
 "nbformat_minor": 2
}
